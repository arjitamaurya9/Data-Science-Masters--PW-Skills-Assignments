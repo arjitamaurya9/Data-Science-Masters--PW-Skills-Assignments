{
 "cells": [
  {
   "cell_type": "markdown",
   "id": "e1ba3304",
   "metadata": {},
   "source": [
    "Q1. Which function is used to open a file? What are the different modes of opening a file? Explain each mode\n",
    "of file opening."
   ]
  },
  {
   "cell_type": "markdown",
   "id": "5f99f8f2",
   "metadata": {},
   "source": [
    "Files in Python can be opened with a built-in open() function. Ideally, it takes two string arguments:\n",
    "\n",
    "The file path including the file name and the extension we want to open, is to be passed as a string\n",
    "The mode in which we want to open the file, to be passed as a string.\n",
    "Thus, the syntax for opening a file would look like this:\n",
    "\n",
    "open(“”, “”)\n",
    "Indeed there are other arguments as well in the open() function which are optional and are used as per the requirement of the user. Let’s look at an example for opening a file. Suppose if we have a file named myfile.txt on our desktop, it can be opened by:\n",
    "\n",
    "open(“C:UsersRahulDesktopmyfile.txt”)\n",
    "Unquestionably, if our current working directory of the Python file is the same as our file (here desktop), there is no need to specify the full path. In such a case, our open() function would look like:\n",
    "\n",
    "open(“myfile.txt”)\n",
    "For the ease of code implementation, let us consider our current working directory the same as the location our text files are present for the rest of the article.\n",
    "\n",
    "Python has a wide range of file opening modes available by default. These modes specify in which mode our file needed to be opened. Each file opening mode comes with its default functionality and one can select the appropriate model based on the need. As discussed above, the file opening mode argument is an important factor that decides whether we want to read, write or update the contents of an existing file.\n",
    "\n",
    "\n",
    "File Opening Modes in Python\n",
    "\n",
    "Mode\tDescription\tExample\n",
    "- r\tRead mode. Opens the file for reading (default mode). If the file doesn’t exist, an error will be raised.\tfile = open('example.txt', 'r')\n",
    "- w\tWrite mode. Opens the file for writing. If the file exists, it will be truncated. If the file doesn’t exist, it will be created.\tfile = open('example.txt', 'w')\n",
    "- a\tAppend mode. Opens the file for writing, but appends new data to the end of the file instead of overwriting existing data. If the file doesn’t exist, it will be created.\tfile = open('example.txt', 'a')\n",
    "- x\tExclusive creation mode. Opens the file for writing, but only if it doesn’t already exist. If the file exists, an error will be raised.\tfile = open('example.txt', 'x')\n",
    "- b\tBinary mode. Opens the file in binary mode instead of text mode.\tfile = open('example.txt', 'rb')\n",
    "- t\tText mode (default). Opens the file in text mode instead of binary mode.\tfile = open('example.txt', 'rt')\n",
    "- '+'\tUpdate mode. Opens the file for both reading and writing.\tfile = open('example.txt', 'r+')\n",
    "\n",
    "The modes discussed above are being used on a text file. To use these modes for a binary file, we need to use a different combination of file opening mode arguments. Using ‘b’ with any mode, For example, ‘ab’, ‘rb’, ‘wb’, ‘rb+’, the file opens in binary mode. It is used for non-textual files like image, sound, executable (.exe) files.\n",
    "\n",
    "For Example, To open our file myfile.txt in b mode:\n",
    "\n",
    "open(\"myfile.txt\", \"rb\")\n",
    "\n",
    "Opening a file is not enough. This open function needs to be stored into a variable as this will be used later for writing & reading the file. Here we will assign a variable to our file:\n",
    "\n",
    "file = open(\"myfile.txt\", \"r\")"
   ]
  },
  {
   "cell_type": "markdown",
   "id": "12a43f37",
   "metadata": {},
   "source": [
    "Q2. Why close() function is used? Why is it important to close a file?"
   ]
  },
  {
   "cell_type": "markdown",
   "id": "6075eded",
   "metadata": {},
   "source": [
    "The close() method closes an open file.\n",
    "\n",
    "You should always close your files, in some cases, due to buffering, changes made to a file may not show until you close the file.\n",
    "\n",
    "Syntax - file.close()\n",
    "\n",
    "Parameter Values\n",
    "No parameters"
   ]
  },
  {
   "cell_type": "markdown",
   "id": "c5bd2e98",
   "metadata": {},
   "source": [
    "Q3. Write a python program to create a text file. Write ‘I want to become a Data Scientist’ in that file. Then\n",
    "close the file. Open this file and read the content of the file."
   ]
  },
  {
   "cell_type": "code",
   "execution_count": 2,
   "id": "8cf79430",
   "metadata": {},
   "outputs": [],
   "source": [
    "# Opening a file in write mode\n",
    "new_file = open('new_file.txt','w')\n",
    "# Writing the file in write mode\n",
    "new_file.write('I want to become a Data Scientist')\n",
    "# Closing the file\n",
    "new_file.close()"
   ]
  },
  {
   "cell_type": "code",
   "execution_count": 3,
   "id": "9eb7ba43",
   "metadata": {},
   "outputs": [
    {
     "name": "stdout",
     "output_type": "stream",
     "text": [
      "I want to become a Data Scientist\n"
     ]
    }
   ],
   "source": [
    "# Opening file in read mode\n",
    "new_file = open('new_file.txt','r')\n",
    "# Reading the file\n",
    "lines = new_file.read()\n",
    "print(lines)\n",
    "# Closing the file\n",
    "new_file.close()"
   ]
  },
  {
   "cell_type": "markdown",
   "id": "89a0c542",
   "metadata": {},
   "source": [
    "Q4. Explain the following with python code: read(), readline() and readlines()."
   ]
  },
  {
   "cell_type": "markdown",
   "id": "2d3d5167",
   "metadata": {},
   "source": [
    "The read() method returns the specified number of bytes from the file. Default is -1 which means the whole file.\n"
   ]
  },
  {
   "cell_type": "code",
   "execution_count": 6,
   "id": "13fa1e95",
   "metadata": {},
   "outputs": [
    {
     "name": "stdout",
     "output_type": "stream",
     "text": [
      "I want to become a Data Scientist\n"
     ]
    }
   ],
   "source": [
    "file = open('new_file.txt','r')\n",
    "print(file.read())\n",
    "file.close()"
   ]
  },
  {
   "cell_type": "code",
   "execution_count": 7,
   "id": "dbae3b0d",
   "metadata": {},
   "outputs": [
    {
     "name": "stdout",
     "output_type": "stream",
     "text": [
      "I wa\n"
     ]
    }
   ],
   "source": [
    "file = open('new_file.txt','r')\n",
    "print(file.read(4))\n",
    "file.close()"
   ]
  },
  {
   "cell_type": "markdown",
   "id": "29567cf8",
   "metadata": {},
   "source": [
    "The readline() method returns one line from the file. You can also specified how many bytes from the line to return, by using the size parameter."
   ]
  },
  {
   "cell_type": "code",
   "execution_count": 8,
   "id": "b2c7eccb",
   "metadata": {},
   "outputs": [
    {
     "name": "stdout",
     "output_type": "stream",
     "text": [
      "I want to become a Data Scientist\n"
     ]
    }
   ],
   "source": [
    "file = open('new_file.txt','r')\n",
    "print(file.readline())\n",
    "file.close()"
   ]
  },
  {
   "cell_type": "markdown",
   "id": "71b3242a",
   "metadata": {},
   "source": [
    "The readlines() method returns a list containing each line in the file as a list item."
   ]
  },
  {
   "cell_type": "code",
   "execution_count": 10,
   "id": "d929af39",
   "metadata": {},
   "outputs": [
    {
     "name": "stdout",
     "output_type": "stream",
     "text": [
      "['I want to become a Data Scientist']\n"
     ]
    }
   ],
   "source": [
    "file = open('new_file.txt','r')\n",
    "print(file.readlines())\n",
    "file.close()"
   ]
  },
  {
   "cell_type": "markdown",
   "id": "29841600",
   "metadata": {},
   "source": [
    "Q5. Explain why with statement is used with open(). What is the advantage of using with statement and\n",
    "open() together?"
   ]
  },
  {
   "cell_type": "markdown",
   "id": "26e1f68f",
   "metadata": {},
   "source": [
    "In Python, with statement is used in exception handling to make the code cleaner and much more readable. It simplifies the management of common resources like file streams.\n",
    "\n",
    "Advantage is : unlike the previous implementations, there is no need to call file.close()\n",
    "\n",
    "It is guaranteed to close the file no matter how the nested block exits. If an exception occurs before the end of the block, it will close the file before the exception is caught by an outer exception handler."
   ]
  },
  {
   "cell_type": "code",
   "execution_count": 11,
   "id": "5bebea5e",
   "metadata": {},
   "outputs": [],
   "source": [
    "# using with statement\n",
    "with open('with_file.txt', 'w') as file:\n",
    "\tfile.write('This is file created using with statement')"
   ]
  },
  {
   "cell_type": "code",
   "execution_count": 12,
   "id": "aa03394b",
   "metadata": {},
   "outputs": [
    {
     "name": "stdout",
     "output_type": "stream",
     "text": [
      "This is file created using with statement\n"
     ]
    }
   ],
   "source": [
    "# Using the above file using with statement and reading the file\n",
    "with open('with_file.txt','r') as file:\n",
    "    print(file.read())"
   ]
  },
  {
   "cell_type": "markdown",
   "id": "7f58ebd2",
   "metadata": {},
   "source": [
    "Q6. Explain the write() and writelines() functions. Give a suitable example"
   ]
  },
  {
   "cell_type": "markdown",
   "id": "2c2f4ad3",
   "metadata": {},
   "source": [
    "The write() function will write the content in the file without adding any extra characters.\n",
    "\n",
    "While writing data to a file, we must know that the write function does not add a newline character(\\n) to the end of the string.\n",
    "The write() function returns None."
   ]
  },
  {
   "cell_type": "code",
   "execution_count": 14,
   "id": "884d9644",
   "metadata": {},
   "outputs": [],
   "source": [
    "student_file = open(\"students.txt\", \"w\")\n",
    "\n",
    "student_name = ['Utkarsh','Pravin','Dhiraj']\n",
    "\n",
    "for i in student_name:\n",
    "    student_file.write(f'Name of student : {i}')\n",
    "    student_file.write(\"\\n\")\n",
    "\t\n",
    "student_file.close()"
   ]
  },
  {
   "cell_type": "code",
   "execution_count": 15,
   "id": "b1e2cd44",
   "metadata": {},
   "outputs": [
    {
     "name": "stdout",
     "output_type": "stream",
     "text": [
      "Name of student : Utkarsh\n",
      "Name of student : Pravin\n",
      "Name of student : Dhiraj\n",
      "\n"
     ]
    }
   ],
   "source": [
    "with open('students.txt','r') as file:\n",
    "    print(file.read())"
   ]
  },
  {
   "cell_type": "markdown",
   "id": "0c0e34f0",
   "metadata": {},
   "source": [
    "writelines(): This function writes the content of a list to a file.\n",
    "\n",
    "the list of strings that is passed to the writelines() function is written into the opened file.\n",
    "Similar to the write() function, the writelines() function does not add a newline character(\\n) to the end of the string"
   ]
  },
  {
   "cell_type": "code",
   "execution_count": 16,
   "id": "acc584d6",
   "metadata": {},
   "outputs": [],
   "source": [
    "student_name2 = ['Suraj','Ramesh','Suresh']\n",
    "# Adding \\n character to each element in list \n",
    "lst = []\n",
    "for i in student_name2:\n",
    "    lst.append(i+'\\n')\n",
    "# Writing with writelines\n",
    "with open('student2.txt','w') as file2:\n",
    "    file2.writelines(lst)"
   ]
  },
  {
   "cell_type": "code",
   "execution_count": 17,
   "id": "34b36880",
   "metadata": {},
   "outputs": [
    {
     "name": "stdout",
     "output_type": "stream",
     "text": [
      "Suraj\n",
      "Ramesh\n",
      "Suresh\n",
      "\n"
     ]
    }
   ],
   "source": [
    "with open('student2.txt','r') as file2:\n",
    "    print(file2.read())"
   ]
  },
  {
   "cell_type": "code",
   "execution_count": null,
   "id": "7ccd47b0",
   "metadata": {},
   "outputs": [],
   "source": []
  }
 ],
 "metadata": {
  "kernelspec": {
   "display_name": "Python 3 (ipykernel)",
   "language": "python",
   "name": "python3"
  },
  "language_info": {
   "codemirror_mode": {
    "name": "ipython",
    "version": 3
   },
   "file_extension": ".py",
   "mimetype": "text/x-python",
   "name": "python",
   "nbconvert_exporter": "python",
   "pygments_lexer": "ipython3",
   "version": "3.9.13"
  }
 },
 "nbformat": 4,
 "nbformat_minor": 5
}

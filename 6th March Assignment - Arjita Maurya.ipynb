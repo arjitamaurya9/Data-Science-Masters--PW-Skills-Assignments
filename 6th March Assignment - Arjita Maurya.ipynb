{
 "cells": [
  {
   "cell_type": "markdown",
   "id": "36c9ddb5",
   "metadata": {},
   "source": [
    "Q1. What is Statistics?"
   ]
  },
  {
   "cell_type": "markdown",
   "id": "35eb144d",
   "metadata": {},
   "source": [
    "Statistics is the science of collecting, organzing and analyzing the data. "
   ]
  },
  {
   "cell_type": "markdown",
   "id": "8d0a61cb",
   "metadata": {},
   "source": [
    "Q2. Define the different types of statistics and give an example of when each type might be used."
   ]
  },
  {
   "cell_type": "markdown",
   "id": "f6a267cc",
   "metadata": {},
   "source": [
    "1. Descriptive Statistics :\n",
    "\n",
    "Descriptive statistics uses data that provides a description of the population either through numerical calculation or graph or table. It provides a graphical summary of data. It is simply used for summarizing objects, etc. There are two categories in this as following below.\n",
    "\n",
    "* Measure of central tendency – Measure of central tendency is also known as summary statistics that is used to represents the center point or a particular value of a data set or sample set. In statistics, there are three common measures of central tendency are Mean , Median and Mode\n",
    "\n",
    "* Measure of Variability – Measure of Variability is also known as measure of dispersion and used to describe variability in a sample or population. In statistics, there are three common measures of variability are Range, Variance and Standard deviation\n",
    "\n",
    "2. Inferential Statistics:\n",
    "\n",
    "Inferential Statistics makes inference and prediction about population based on a sample of data taken from population. It generalizes a large dataset and applies probabilities to draw a conclusion. It is simply used for explaining meaning of descriptive stats. It is simply used to analyze, interpret result, and draw conclusion. Inferential Statistics is mainly related to and associated with hypothesis testing whose main target is to reject null hypothesis.\n",
    "\n",
    "Types of inferential statistics –\n",
    "Various types of inferential statistics are used widely nowadays and are very easy to interpret. These are given below:\n",
    "* One sample test of difference/One sample hypothesis test\n",
    "* Confidence Interval\n",
    "* Contingency Tables and Chi-Square Statistic\n",
    "* T-test or Anova\n",
    "* Pearson Correlation\n",
    "* Bi-variate Regression\n",
    "* Multi-variate Regression\n"
   ]
  },
  {
   "cell_type": "markdown",
   "id": "4ab51778",
   "metadata": {},
   "source": [
    "Q3. What are the different types of data and how do they differ from each other? Provide an example of\n",
    "each type of data."
   ]
  },
  {
   "cell_type": "markdown",
   "id": "b3d5a902",
   "metadata": {},
   "source": [
    "**Quantitative Data**\n",
    "\n",
    "Quantitative data can be expressed in numerical values, making it countable and including statistical data analysis. These kinds of data are also known as Numerical data. It answers the questions like “how much,” “how many,” and “how often.” For example, the price of a phone, the computer’s ram, the height or weight of a person, etc., falls under quantitative data. \n",
    "\n",
    "|Discrete Data|Continuous Data|\n",
    "|---|---|\n",
    "|Discrete data are countable and finite; they are whole numbers or integers|Continuous data are measurable; they are in the form of fractions or decimal|\n",
    "|Discrete data are represented mainly by bar graphs|Continuous data are represented in the form of a histogram|\n",
    "|The values cannot be divided into subdivisions into smaller pieces|The values can be divided into subdivisions into smaller pieces|\n",
    "|Discrete data have spaces between the values|Continuous data are in the form of a continuous sequence|\n",
    "|Examples: Total students in a class, number of days in a week, size of a shoe, etc|Example: Temperature of room, the weight of a person, length of an object, etc|\n",
    "\n",
    "**Qualitative or Categorical Data**\n",
    "\n",
    "Qualitative or Categorical Data is data that can’t be measured or counted in the form of numbers. These types of data are sorted by category, not by number. That’s why it is also known as Categorical Data. These data consist of audio, images, symbols, or text. The gender of a person, i.e., male, female, or others, is qualitative data.\n",
    "\n",
    "|Nominal Data|Ordinal Data|\n",
    "|---|---|\n",
    "|Nominal data can’t be quantified, neither they have any intrinsic ordering|Ordinal data gives some kind of sequential order by their position on the scale\n",
    "|\n",
    "|Nominal data is qualitative data or categorical data|Ordinal data is said to be “in-between” qualitative data and quantitative data|\n",
    "|They don’t provide any quantitative value, neither can we perform any arithmetical operation|They provide sequence and can assign numbers to ordinal data but cannot perform the arithmetical operation|\n",
    "|Nominal data cannot be used to compare with one another|Ordinal data can help to compare one item with another by ranking or ordering|\n",
    "|Examples: Eye color, housing style, gender, hair color, religion, marital status, ethnicity, etc|Examples: Economic status, customer satisfaction, education level, letter grades, etc |"
   ]
  },
  {
   "cell_type": "markdown",
   "id": "482c4674",
   "metadata": {},
   "source": [
    "Q4. Categorise the following datasets with respect to quantitative and qualitative data types:\n",
    "(i) Grading in exam: A+, A, B+, B, C+, C, D, E\n",
    "(ii) Colour of mangoes: yellow, green, orange, red\n",
    "(iii) Height data of a class: [178.9, 179, 179.5, 176, 177.2, 178.3, 175.8,...]\n",
    "(iv) Number of mangoes exported by a farm: [500, 600, 478, 672, ...]"
   ]
  },
  {
   "cell_type": "markdown",
   "id": "1a01e0dc",
   "metadata": {},
   "source": [
    "(i) Grading in exam: A+, A, B+, B, C+, C, D, E - Qualitative (Ordinal)\n",
    "\n",
    "(ii) Colour of mangoes: yellow, green, orange, red - Qualitative (Nominal)\n",
    "\n",
    "(iii) Height data of a class: [178.9, 179, 179.5, 176, 177.2, 178.3, 175.8,...] - Quantitative(Continuous)\n",
    "\n",
    "(iv) Number of mangoes exported by a farm: [500, 600, 478, 672, ...] - Quantitative(Discrete)"
   ]
  },
  {
   "cell_type": "markdown",
   "id": "d9a7d51f",
   "metadata": {},
   "source": [
    "Q5. Explain the concept of levels of measurement and give an example of a variable for each level."
   ]
  },
  {
   "cell_type": "markdown",
   "id": "25563c8f",
   "metadata": {},
   "source": [
    "Levels of measurement, also called scales of measurement, tell you how precisely variables are recorded.\n",
    "There are 4 levels of measurement:\n",
    "\n",
    "|Scale|Examples|\n",
    "|---|---|\n",
    "|**Nominal** - You can categorize your data by labelling them in mutually exclusive groups, but there is no order between the categories.|City of birth, Gender, Ethnicity, Car brands, Marital status|\n",
    "|**Ordinal** - You can categorize and rank your data in an order, but you cannot say anything about the intervals between the rankings.Although you can rank the top 5 Olympic medallists, this scale does not tell you how close or far apart they are in number of wins|Top 5 Olympic medallists, Language ability (e.g., beginner, intermediate, fluent), Likert-type questions  (e.g., very dissatisfied to very satisfied)|\n",
    "|**Interval** - You can categorize, rank, and infer equal intervals between neighboring data points, but there is no true zero point.The difference between any two adjacent temperatures is the same: one degree. But  zero degrees is defined differently depending on the scale – it doesn’t mean an absolute absence of temperature.The same is true for test scores and personality inventories. A zero on a test is arbitrary; it does not mean that the test-taker has an absolute lack of the trait being measured.|Test scores (e.g., IQ or exams),Personality inventories,Temperature in Fahrenheit or Celsius|\n",
    "|**Ratio**-You can categorize, rank, and infer equal intervals between neighboring data points, and there is a true zero point. A true zero means there is an absence of the variable of interest. In ratio scales, zero does mean an absolute lack of the variable.For example, in the Kelvin temperature scale, there are no negative degrees of temperature – zero means an absolute lack of thermal energy.|Height, Age, Weight, Temperature in Kelvin|"
   ]
  },
  {
   "cell_type": "markdown",
   "id": "0b321361",
   "metadata": {},
   "source": [
    "Q6. Why is it important to understand the level of measurement when analyzing data? Provide an\n",
    "example to illustrate your answer."
   ]
  },
  {
   "cell_type": "markdown",
   "id": "15b95a85",
   "metadata": {},
   "source": [
    "The level at which you measure a variable determines how you can analyze your data.\n",
    "\n",
    "The different levels limit which descriptive statistics you can use to get an overall summary of your data, and which type of inferential statistics you can perform on your data to support or refute your hypothesis.\n",
    "\n",
    "In many cases, your variables can be measured at different levels, so you have to choose the level of measurement you will use before data collection begins.\n",
    "\n",
    "Example of a variable at 2 levels of measurement\n",
    "\n",
    "You can measure the variable of income at an ordinal or ratio level.\n",
    "\n",
    "Ordinal level: You create brackets of income ranges: $0–$19,999, $20,000–$39,999, and $40,000–$59,999. You ask participants to select the bracket that represents their annual income. The brackets are coded with numbers from 1–3.\n",
    "\n",
    "Ratio level: You collect data on the exact annual incomes of your participants.\n",
    "\n",
    "|Participant|Income (ordinal level)|Income (ratio level) in $ |\n",
    "|:-|-:|:-:|\n",
    "|A | Bracket 1 |12500|\n",
    "|B | Bracket 2 |39700|\n",
    "|C | Bracket 3 |40300|\n",
    "\n",
    "At a ratio level, you can see that the difference between A and B’s incomes is far greater than the difference between B and C’s incomes.\n",
    "\n",
    "At an ordinal level, however, you only know the income bracket for each participant, not their exact income. Since you cannot say exactly how much each income differs from the others in your data set, you can only order the income levels and group the participants."
   ]
  },
  {
   "cell_type": "markdown",
   "id": "c8cc833d",
   "metadata": {},
   "source": [
    "Q7. How nominal data type is different from ordinal data type."
   ]
  },
  {
   "cell_type": "markdown",
   "id": "16123df7",
   "metadata": {},
   "source": [
    "Key Difference between Nominal and Ordinal Data\n",
    "* Nominal data is a group of non-parametric variables, whereas Ordinal data is a group of non-parametric ordered variables.\n",
    "* Ordinal data is analyzed by mode, median, quartiles, and percentile, whereas nominal data is analyzed by grouping variables into categories and calculating the distribution mode.\n",
    "* Nominal data are categorical, whereas Ordinal data are both categorical and quantitative.\n",
    "* Both nominal and ordinal data can be analyzed using percentage and mode."
   ]
  },
  {
   "cell_type": "markdown",
   "id": "6df0a65f",
   "metadata": {},
   "source": [
    "Q8. Which type of plot can be used to display data in terms of range?"
   ]
  },
  {
   "cell_type": "markdown",
   "id": "a3fe4098",
   "metadata": {},
   "source": [
    "A box plot uses boxes and whiskers to summarize the distribution of values within measured groups. The positions of the box and whisker ends show the regions where the majority of the data lies. We most commonly see box plots when we have multiple groups to compare to one another; other charts with more detail are preferred when we have only one group to plot."
   ]
  },
  {
   "cell_type": "markdown",
   "id": "c414da3d",
   "metadata": {},
   "source": [
    "Q9. Describe the difference between descriptive and inferential statistics. Give an example of each\n",
    "type of statistics and explain how they are used."
   ]
  },
  {
   "cell_type": "markdown",
   "id": "4f1b2188",
   "metadata": {},
   "source": [
    "|Descriptive Statistics|Inferential Statistics|\n",
    "|---|---|\n",
    "|It gives information about raw data which describes the data in some manner.|It makes inferences about the population using data drawn from the population.|\n",
    "|It helps in organizing, analyzing, and to present data in a meaningful manner|It allows us to compare data, and make hypotheses and predictions.|\n",
    "|It is used to describe a situation.|It is used to explain the chance of occurrence of an event.|\n",
    "|It explains already known data and is limited to a sample or population having a small size.|It attempts to reach the conclusion about the population.|\n",
    "|It can be achieved with the help of charts, graphs, tables, etc.|It can be achieved by probability.|"
   ]
  },
  {
   "cell_type": "markdown",
   "id": "93893a8d",
   "metadata": {},
   "source": [
    "Q10. What are some common measures of central tendency and variability used in statistics? Explain\n",
    "how each measure can be used to describe a dataset."
   ]
  },
  {
   "cell_type": "markdown",
   "id": "cacc1e49",
   "metadata": {},
   "source": [
    "The central tendency measure is defined as the number used to represent the center or middle of a set of data values. The three commonly used measures of central tendency are the mean, median, and mode. \n",
    "1. Mean: The sum of all measurements divided by the number of observations.Can be used with discrete and continuous data. It is value that is most common\n",
    "2. Median: The middle value that separates the higher half from the lower half. Mean and median can be compared with each other to determine if the population is of normal distribution or not. Numbers are arranged in either ascending or descending order. The middle number is than taken.\n",
    "3. Mode: The most frequent value. It shows most popular option and is the highest bar in histogram.Example of use: to determine the most common blood group.\n",
    "4. Geometric mean - the nth root of the product of the data values.\n",
    "5. Harmonic mean - the reciprocal of the arithmetic mean of the reciprocals of the data values.\n",
    "6. Weighted mean - an arithmetic mean that makes use of weighting to certain data elements.\n",
    "7. Truncated mean - the arithmetic mean of data values that do not include the whole set of values, such as ignoring values after a certain number or discarding a fixed proportion of the highest and lower values.\n",
    "8. Midrange - the arithmetic mean of the maximum and minimum values of a data set\n",
    "\n",
    "Dispersion is contrasted with location or central tendency, and together they are the most used properties of distributions. It is the variability or spread in a variable or a probability distribution. They tell us how much observations in a data set vary.They allow us to summarise our data set with a single value hence giving a more accurate picture of our data set.\n",
    "1. Variance: A measure of how far a set of numbers are spread out from each other. It describes how far the numbers lie from the mean (expected value). It is the square of standard deviation.\n",
    "2. Standard deviation (SD): it is only used for data that are “normally distributed”. SD indicates how much a set of values is spread around the average. SD is determined by the variance (SD=the root of the variance).\n",
    "3. Interquartile range (IQR): the interquartile range (IQR), is also known as the 'midspread' or 'middle fifty', is a measure of statistical dispersion, being equal to the difference between the third and first quartiles. IQR = Q3 − Q1. Unlike (total) range, the interquartile range is a more commonly used statistic, since it excludes the lower 25% and upper 25%, therefore reflecting more accurately valid values and excluding the outliers.\n",
    "4. Range: it is the length of the smallest interval which contains all the data and is calculated by subtracting the smallest observation (sample minimum) from the greatest (sample maximum) and provides an indication of statistical dispersion[4]. It bears the same units as the data used for calculating it. Because of its dependance on just two observations, it tends to be a poor and weak measure of dispersion, with the only exception being when the sample size is large.\n"
   ]
  }
 ],
 "metadata": {
  "kernelspec": {
   "display_name": "Python 3 (ipykernel)",
   "language": "python",
   "name": "python3"
  },
  "language_info": {
   "codemirror_mode": {
    "name": "ipython",
    "version": 3
   },
   "file_extension": ".py",
   "mimetype": "text/x-python",
   "name": "python",
   "nbconvert_exporter": "python",
   "pygments_lexer": "ipython3",
   "version": "3.9.13"
  }
 },
 "nbformat": 4,
 "nbformat_minor": 5
}

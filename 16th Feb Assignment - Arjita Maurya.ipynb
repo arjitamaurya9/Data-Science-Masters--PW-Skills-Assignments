{
 "cells": [
  {
   "cell_type": "markdown",
   "id": "ea591415",
   "metadata": {},
   "source": [
    "Q1. What is a database? Differentiate between SQL and NoSQL databases."
   ]
  },
  {
   "cell_type": "markdown",
   "id": "5c149afb",
   "metadata": {},
   "source": [
    "A database is an organized collection of structured information, or data, typically stored electronically in a computer system. A database is usually controlled by a database management system (DBMS).\n",
    "\n",
    "* SQL databases are relational, and NoSQL databases are non-relational.\n",
    "* SQL databases use structured query language (SQL) and have a predefined schema. NoSQL databases have dynamic schemas for unstructured data.\n",
    "* SQL databases are vertically scalable, while NoSQL databases are horizontally scalable.\n",
    "* SQL databases are table-based, while NoSQL databases are document, key-value, graph, or wide-column stores.\n",
    "* SQL databases are better for multi-row transactions, while NoSQL is better for unstructured data like documents or JSON."
   ]
  },
  {
   "cell_type": "markdown",
   "id": "8566d8a2",
   "metadata": {},
   "source": [
    "Q2. What is DDL? Explain why CREATE, DROP, ALTER, and TRUNCATE are used with an example."
   ]
  },
  {
   "cell_type": "markdown",
   "id": "44bf5076",
   "metadata": {},
   "source": [
    "Data Definition Language(DDL) is a subset of SQL and a part of DBMS(Database Management System). DDL consist of Commands to commands like CREATE, ALTER, TRUNCATE and DROP. These commands are used to create or modify the tables in SQL."
   ]
  },
  {
   "cell_type": "markdown",
   "id": "9b56e994",
   "metadata": {},
   "source": [
    "**Command-1 :**\n",
    "\n",
    "**CREATE :**\n",
    "This command is used to create a new table in SQL. The user has to give information like table name, column names, and their datatypes.\n",
    "\n",
    "**Syntax –**\n",
    "\n",
    "CREATE TABLE table_name\n",
    "(\n",
    "column_1 datatype,\n",
    "column_2 datatype,\n",
    "column_3 datatype,\n",
    "....\n",
    ");\n",
    "\n",
    "**Example –**\n",
    "We need to create a table for storing Student information of a particular College. Create syntax would be as below.\n",
    "\n",
    "CREATE TABLE Student_info\n",
    "(\n",
    "College_Id number(2),\n",
    "College_name varchar(30),\n",
    "Branch varchar(10)\n",
    ");"
   ]
  },
  {
   "cell_type": "markdown",
   "id": "c83d0d50",
   "metadata": {},
   "source": [
    "**Command-2 :**\n",
    "    \n",
    "**ALTER :**\n",
    "This command is used to add, delete or change columns in the existing table. The user needs to know the existing table name and can do add, delete or modify tasks easily.\n",
    "\n",
    "**Syntax –**\n",
    "Syntax to add a column to an existing table.\n",
    "\n",
    "ALTER TABLE table_name\n",
    "ADD column_name datatype;\n",
    "\n",
    "**Example –**\n",
    "In our Student_info table, we want to add a new column for CGPA. The syntax would be as below as follows.\n",
    "\n",
    "ALTER TABLE Student_info\n",
    "ADD CGPA number;"
   ]
  },
  {
   "cell_type": "markdown",
   "id": "eac26c8b",
   "metadata": {},
   "source": [
    "**Command-3 :**\n",
    "\n",
    "**TRUNCATE :**\n",
    "This command is used to remove all rows from the table, but the structure of the table still exists.\n",
    "\n",
    "**Syntax –**\n",
    "Syntax to remove an existing table.\n",
    "\n",
    "TRUNCATE TABLE table_name;\n",
    "\n",
    "**Example –**\n",
    "The College Authority wants to remove the details of all students for new batches but wants to keep the table structure. The command they can use is as follows.\n",
    "\n",
    "\n",
    "TRUNCATE TABLE Student_info;"
   ]
  },
  {
   "cell_type": "markdown",
   "id": "2798e155",
   "metadata": {},
   "source": [
    "**Command-4 :**\n",
    "\n",
    "**DROP :**\n",
    "This command is used to remove an existing table along with its structure from the Database.\n",
    "\n",
    "**Syntax –**\n",
    "Syntax to drop an existing table.\n",
    "\n",
    "DROP TABLE table_name;\n",
    "\n",
    "**Example –**\n",
    "If the College Authority wants to change their Database by deleting the Student_info Table. \n",
    "\n",
    "DROP TABLE Student_info;"
   ]
  },
  {
   "cell_type": "markdown",
   "id": "2268e6c5",
   "metadata": {},
   "source": [
    "**Command -5**\n",
    "\n",
    "**RENAME:**\n",
    "\n",
    "It is possible to change name of table with or without data in it using simple RENAME command.\n",
    "\n",
    "We can rename any table object at any point of time.\n",
    "\n",
    "**Syntax –**\n",
    "\n",
    "RENAME TABLE <Table Name> To <New_Table_Name>;\n",
    "\n",
    "**Example:**\n",
    "\n",
    "If you want to change the name of the table from Employee to Emp we can use rename command as \n",
    "\n",
    "RENAME TABLE Employee To EMP;\n"
   ]
  },
  {
   "cell_type": "markdown",
   "id": "41dfefda",
   "metadata": {},
   "source": [
    "Q3. What is DML? Explain INSERT, UPDATE, and DELETE with an example."
   ]
  },
  {
   "cell_type": "markdown",
   "id": "27d4b478",
   "metadata": {},
   "source": [
    "DML stands for Data Manipulation Language. Tables and formulas are helpful when communicating with data stored up to a point in a database through SQL, but a time comes when we actually want to execute some fairly complicated data interactions. We will also need the Data Manipulation Language in that situation. DML is a way to inform a database precisely what we want it to do by conversing in a manner that it has been built to comprehend from the scratch. When it comes to interacting within existing data, whether adding, moving, or deleting data, it provides a convenient way to do so."
   ]
  },
  {
   "cell_type": "markdown",
   "id": "a4d4e39b",
   "metadata": {},
   "source": [
    "**INSERT Command –**\n",
    "This command is used to enter the information or values into a row. We can connect one or more records to a single table within a repository using this instruction. This is often used to connect an unused tag to the documents.\n",
    "\n",
    "**Syntax :**\n",
    "\n",
    "INSERT INTO <table_name> ('column_name1' <datatype>, 'column_name2' <datatype>)\n",
    "\n",
    "VALUES ('value1', 'value2'); \n",
    "\n",
    "**Example :**\n",
    "\n",
    "INSERT INTO students ('stu_id' int, 'stu_name' varchar(20), 'city' varchar(20))\n",
    "\n",
    "VALUES ('1', 'Nirmit', 'Gorakhpur'); "
   ]
  },
  {
   "cell_type": "markdown",
   "id": "b40c30e4",
   "metadata": {},
   "source": [
    "**UPDATE Command –**\n",
    "This command is used to alter existing table records. Within a table, it modifies data from one or more records. This command is used to alter the data which is already present in a table.\n",
    "\n",
    "**Syntax :**\n",
    "\n",
    "UPDATE <table_name>\n",
    "\n",
    "SET <column_name = value>\n",
    "\n",
    "WHERE condition; \n",
    "\n",
    "**Example :**\n",
    "\n",
    "UPDATE students\n",
    "\n",
    "SET due_fees = 20000\n",
    "\n",
    "WHERE stu_name = 'Mini'; "
   ]
  },
  {
   "cell_type": "markdown",
   "id": "2345df51",
   "metadata": {},
   "source": [
    "**DELETE Command –**\n",
    "It deletes all archives from a table. This command is used to erase some or all of the previous table’s records. If we do not specify the ‘WHERE’ condition then all the rows would be erased or deleted.\n",
    "\n",
    "**Syntax :**\n",
    "\n",
    "DELETE FROM <table_name>\n",
    "\n",
    "WHERE <condition>; \n",
    "\n",
    "**Example :**\n",
    "\n",
    "DELETE FROM students\n",
    "\n",
    "WHERE stu_id = '001'; "
   ]
  },
  {
   "cell_type": "markdown",
   "id": "63b384de",
   "metadata": {},
   "source": [
    "Q4. What is DQL? Explain SELECT with an example."
   ]
  },
  {
   "cell_type": "markdown",
   "id": "ea664cf2",
   "metadata": {},
   "source": [
    "DQL or data query language is to perform the query on the data inside the schema or object (ie table, index, view, function, etc). With the help of a DQL query, we can get the data from the database to perform actions or operations like analyzing the data. \n",
    "\n"
   ]
  },
  {
   "cell_type": "markdown",
   "id": "5029b24d",
   "metadata": {},
   "source": [
    "**SELECT Command –**\n",
    "This command is used to get data out of the database. It helps users of the database to access from an operating system, the significant data they need. It sends a track result set from one tables or more.\n",
    "\n",
    "**Syntax :**\n",
    "\n",
    "SELECT * \n",
    "FROM <table_name>; \n",
    "\n",
    "**Example :**\n",
    "\n",
    "SELECT * \n",
    "FROM students;\n",
    "\n",
    "OR\n",
    "\n",
    "SELECT * \n",
    "FROM students\n",
    "where due_fees <=20000;"
   ]
  },
  {
   "cell_type": "markdown",
   "id": "fe4d1cca",
   "metadata": {},
   "source": [
    "Q5. Explain Primary Key and Foreign Key."
   ]
  },
  {
   "cell_type": "markdown",
   "id": "b064010d",
   "metadata": {},
   "source": [
    "A primary key generally focuses on the uniqueness of the table. It assures the value in the specific column is unique. A foreign key is generally used to build a relationship between the two tables. The table allows only one primary key."
   ]
  },
  {
   "cell_type": "markdown",
   "id": "08251795",
   "metadata": {},
   "source": [
    "Q6. Write a python code to connect MySQL to python. Explain the cursor() and execute() method."
   ]
  },
  {
   "cell_type": "markdown",
   "id": "c8e109a4",
   "metadata": {},
   "source": [
    "import mysql.connector\n",
    "#create user 'user'@'%' identified by 'password'\n",
    "mydb = mysql.connector.connect(\n",
    "  host=\"localhost\",\n",
    "  user=\"root\",\n",
    "  password=\"Secure@1994\"\n",
    ")\n",
    "print(mydb)\n",
    "mycursor = mydb.cursor()\n",
    "mycursor.execute(\"SHOW DATABASES\")\n",
    "for x in mycursor:\n",
    "  print(x)\n",
    "mydb.close()"
   ]
  },
  {
   "cell_type": "markdown",
   "id": "10985d04",
   "metadata": {},
   "source": [
    "1. In above code, we first establish a connection to a MySQL database using the mysql.connector.connect() method, which takes the host, user, password as arguments.\n",
    "2. Next, we create a cursor object using the cursor() method of the connection object. The cursor object allows us to execute queries and fetch results.\n",
    "3. We then execute a SQL query using the execute() method of the cursor object, which takes the SQL query as an argument."
   ]
  },
  {
   "cell_type": "markdown",
   "id": "e9670bfa",
   "metadata": {},
   "source": [
    "Q7. Give the order of execution of SQL clauses in an SQL query."
   ]
  },
  {
   "cell_type": "markdown",
   "id": "197e28c7",
   "metadata": {},
   "source": [
    "1. FROM clause: Specifies the table or tables from which to retrieve data.\n",
    "\n",
    "2. JOIN clause: Specifies how to join multiple tables together, if needed.\n",
    "\n",
    "3. WHERE clause: Specifies which rows to retrieve based on a set of conditions.\n",
    "\n",
    "4. GROUP BY clause: Specifies how to group rows based on one or more columns.\n",
    "\n",
    "5. HAVING clause: Specifies which groups to retrieve based on a set of conditions.\n",
    "\n",
    "6. SELECT clause: Specifies which columns to retrieve.\n",
    "\n",
    "7. DISTINCT clause: Specifies to retrieve only distinct values of the specified columns.\n",
    "\n",
    "8. ORDER BY clause: Specifies how to sort the retrieved rows based on one or more columns.\n",
    "\n",
    "9. LIMIT clause: Specifies the maximum number of rows to retrieve."
   ]
  },
  {
   "cell_type": "code",
   "execution_count": null,
   "id": "33b64c4d",
   "metadata": {},
   "outputs": [],
   "source": []
  }
 ],
 "metadata": {
  "kernelspec": {
   "display_name": "Python 3 (ipykernel)",
   "language": "python",
   "name": "python3"
  },
  "language_info": {
   "codemirror_mode": {
    "name": "ipython",
    "version": 3
   },
   "file_extension": ".py",
   "mimetype": "text/x-python",
   "name": "python",
   "nbconvert_exporter": "python",
   "pygments_lexer": "ipython3",
   "version": "3.9.13"
  }
 },
 "nbformat": 4,
 "nbformat_minor": 5
}

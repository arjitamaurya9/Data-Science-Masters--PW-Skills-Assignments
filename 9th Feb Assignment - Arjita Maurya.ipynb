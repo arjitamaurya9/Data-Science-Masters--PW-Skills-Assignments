{
 "cells": [
  {
   "cell_type": "markdown",
   "id": "f0183c98",
   "metadata": {},
   "source": [
    "Q1. Create a vehicle class with an init method having instance variables as name_of_vehicle, max_speed\n",
    "and average_of_vehicle."
   ]
  },
  {
   "cell_type": "code",
   "execution_count": 2,
   "id": "46d09ecf",
   "metadata": {},
   "outputs": [],
   "source": [
    "class Vehicle:\n",
    "    def __init__(self,name_of_vehicle,max_speed,average_of_vehicle):\n",
    "        self.name_of_vehicle=name_of_vehicle\n",
    "        self.max_speed=max_speed\n",
    "        self.average_of_vehicle=average_of_vehicle\n",
    "    def vehicle_details(self):\n",
    "        return self.name_of_vehicle,self.max_speed,self.average_of_vehicle"
   ]
  },
  {
   "cell_type": "code",
   "execution_count": 3,
   "id": "3c848f5c",
   "metadata": {},
   "outputs": [],
   "source": [
    "car1=Vehicle(\"Car\", \"200\",\"20km\")"
   ]
  },
  {
   "cell_type": "code",
   "execution_count": 4,
   "id": "3d26af68",
   "metadata": {},
   "outputs": [
    {
     "data": {
      "text/plain": [
       "('Car', '200', '20km')"
      ]
     },
     "execution_count": 4,
     "metadata": {},
     "output_type": "execute_result"
    }
   ],
   "source": [
    "car1.vehicle_details()"
   ]
  },
  {
   "cell_type": "code",
   "execution_count": 5,
   "id": "a15626e6",
   "metadata": {},
   "outputs": [
    {
     "data": {
      "text/plain": [
       "'20km'"
      ]
     },
     "execution_count": 5,
     "metadata": {},
     "output_type": "execute_result"
    }
   ],
   "source": [
    "car1.average_of_vehicle"
   ]
  },
  {
   "cell_type": "markdown",
   "id": "6ad29a8d",
   "metadata": {},
   "source": [
    "Q2. Create a child class car from the vehicle class created in Que 1, which will inherit the vehicle class.\n",
    "Create a method named seating_capacity which takes capacity as an argument and returns the name of\n",
    "the vehicle and its seating capacity."
   ]
  },
  {
   "cell_type": "code",
   "execution_count": 6,
   "id": "67fd97e1",
   "metadata": {},
   "outputs": [],
   "source": [
    "class Car(Vehicle):\n",
    "    def __init__(self,name_of_vehicle,max_speed,average_of_vehicle,capacity):\n",
    "        super().__init__(name_of_vehicle,max_speed,average_of_vehicle)\n",
    "        self.capacity=capacity\n",
    "    def seating_capacity(self):\n",
    "        return self.name_of_vehicle, self.capacity"
   ]
  },
  {
   "cell_type": "code",
   "execution_count": 8,
   "id": "c73bcdca",
   "metadata": {},
   "outputs": [],
   "source": [
    "car2=Car(\"Car\",400,50,5)"
   ]
  },
  {
   "cell_type": "code",
   "execution_count": 10,
   "id": "01b9793f",
   "metadata": {},
   "outputs": [
    {
     "data": {
      "text/plain": [
       "('Car', 5)"
      ]
     },
     "execution_count": 10,
     "metadata": {},
     "output_type": "execute_result"
    }
   ],
   "source": [
    "car2.seating_capacity()"
   ]
  },
  {
   "cell_type": "code",
   "execution_count": 11,
   "id": "5b18f933",
   "metadata": {},
   "outputs": [
    {
     "data": {
      "text/plain": [
       "('Car', 400, 50)"
      ]
     },
     "execution_count": 11,
     "metadata": {},
     "output_type": "execute_result"
    }
   ],
   "source": [
    "car2.vehicle_details()"
   ]
  },
  {
   "cell_type": "markdown",
   "id": "d3ec57ac",
   "metadata": {},
   "source": [
    "Q3. What is multiple inheritance? Write a python code to demonstrate multiple inheritance."
   ]
  },
  {
   "cell_type": "markdown",
   "id": "1987d4e6",
   "metadata": {},
   "source": [
    "Multiple inheritance involves more than one parent class."
   ]
  },
  {
   "cell_type": "code",
   "execution_count": 12,
   "id": "64f03ef1",
   "metadata": {},
   "outputs": [],
   "source": [
    "class Parent1:\n",
    "    def func1(self):\n",
    "        print(\"This is parent 1 class.\")"
   ]
  },
  {
   "cell_type": "code",
   "execution_count": 13,
   "id": "53e79f99",
   "metadata": {},
   "outputs": [],
   "source": [
    "class Parent2:\n",
    "    def func2(self):\n",
    "        print(\"This is parent 2 class\")"
   ]
  },
  {
   "cell_type": "code",
   "execution_count": 14,
   "id": "1ccf8c3b",
   "metadata": {},
   "outputs": [],
   "source": [
    "class Child(Parent1,Parent2):\n",
    "    def func(self):\n",
    "        print(\"This is child class of parent 1 and 2\")"
   ]
  },
  {
   "cell_type": "code",
   "execution_count": 15,
   "id": "d35916cd",
   "metadata": {},
   "outputs": [],
   "source": [
    "obj1=Parent1()"
   ]
  },
  {
   "cell_type": "code",
   "execution_count": 17,
   "id": "43d75cdc",
   "metadata": {},
   "outputs": [
    {
     "name": "stdout",
     "output_type": "stream",
     "text": [
      "This is parent 1 class.\n"
     ]
    }
   ],
   "source": [
    "obj1.func1()"
   ]
  },
  {
   "cell_type": "code",
   "execution_count": 18,
   "id": "9fc8aa0f",
   "metadata": {},
   "outputs": [],
   "source": [
    "obj2=Parent2()"
   ]
  },
  {
   "cell_type": "code",
   "execution_count": 19,
   "id": "381785e8",
   "metadata": {},
   "outputs": [
    {
     "name": "stdout",
     "output_type": "stream",
     "text": [
      "This is parent 2 class\n"
     ]
    }
   ],
   "source": [
    "obj2.func2()"
   ]
  },
  {
   "cell_type": "code",
   "execution_count": 20,
   "id": "832f5a0a",
   "metadata": {},
   "outputs": [],
   "source": [
    "obj3=Child()"
   ]
  },
  {
   "cell_type": "code",
   "execution_count": 22,
   "id": "295157d2",
   "metadata": {},
   "outputs": [
    {
     "name": "stdout",
     "output_type": "stream",
     "text": [
      "This is parent 1 class.\n"
     ]
    }
   ],
   "source": [
    "obj3.func1()"
   ]
  },
  {
   "cell_type": "code",
   "execution_count": 23,
   "id": "c02a6aaa",
   "metadata": {},
   "outputs": [
    {
     "name": "stdout",
     "output_type": "stream",
     "text": [
      "This is parent 2 class\n"
     ]
    }
   ],
   "source": [
    "obj3.func2()"
   ]
  },
  {
   "cell_type": "code",
   "execution_count": 24,
   "id": "4e16738d",
   "metadata": {},
   "outputs": [
    {
     "name": "stdout",
     "output_type": "stream",
     "text": [
      "This is child class of parent 1 and 2\n"
     ]
    }
   ],
   "source": [
    "obj3.func()"
   ]
  },
  {
   "cell_type": "markdown",
   "id": "c9144f78",
   "metadata": {},
   "source": [
    "Q4. What are getter and setter in python? Create a class and create a getter and a setter method in this\n",
    "class."
   ]
  },
  {
   "cell_type": "markdown",
   "id": "705306e7",
   "metadata": {},
   "source": [
    "In Python property()is a built-in function that creates and returns a property object. A property object has three methods, getter(), setter(), and delete(). property() function in Python has four arguments property(fget, fset, fdel, doc), fget is a function for retrieving an attribute value. fset is a function for setting an attribute value. fdel is a function for deleting an attribute value. doc creates a docstring for attribute. A property object has three methods, getter(), setter(), and delete() to specify fget, fset and fdel individually. For Example"
   ]
  },
  {
   "cell_type": "code",
   "execution_count": 45,
   "id": "5a13bc76",
   "metadata": {},
   "outputs": [
    {
     "name": "stdout",
     "output_type": "stream",
     "text": [
      "Student Details: Jessa 10\n",
      "Invalid roll no. Please set correct roll number\n",
      "Student Details: Jessa 25\n"
     ]
    }
   ],
   "source": [
    "class Student:\n",
    "    def __init__(self, name, roll_no, age):\n",
    "        # private member\n",
    "        self.name = name\n",
    "        # private members to restrict access\n",
    "        # avoid direct data modification\n",
    "        self.__roll_no = roll_no\n",
    "        self.__age = age\n",
    "\n",
    "    def show(self):\n",
    "        print('Student Details:', self.name, self.__roll_no)\n",
    "\n",
    "    # getter methods\n",
    "    def get_roll_no(self):\n",
    "        return self.__roll_no\n",
    "\n",
    "    # setter method to modify data member\n",
    "    # condition to allow data modification with rules\n",
    "    def set_roll_no(self, number):\n",
    "        if number > 50:\n",
    "            print('Invalid roll no. Please set correct roll number')\n",
    "        else:\n",
    "            self.__roll_no = number\n",
    "\n",
    "jessa = Student('Jessa', 10, 15)\n",
    "\n",
    "# before Modify\n",
    "jessa.show()\n",
    "# changing roll number using setter\n",
    "jessa.set_roll_no(120)\n",
    "\n",
    "\n",
    "jessa.set_roll_no(25)\n",
    "jessa.show()"
   ]
  },
  {
   "cell_type": "markdown",
   "id": "9f465dc7",
   "metadata": {},
   "source": [
    "Q5.What is method overriding in python? Write a python code to demonstrate method overriding."
   ]
  },
  {
   "cell_type": "markdown",
   "id": "c12c0381",
   "metadata": {},
   "source": [
    "Method overriding is an ability of any object-oriented programming language that allows a subclass or child class to provide a specific implementation of a method that is already provided by one of its super-classes or parent classes. When a method in a subclass has the same name, same parameters or signature and same return type(or sub-type) as a method in its super-class, then the method in the subclass is said to override the method in the super-class.\n",
    "The version of a method that is executed will be determined by the object that is used to invoke it. If an object of a parent class is used to invoke the method, then the version in the parent class will be executed, but if an object of the subclass is used to invoke the method, then the version in the child class will be executed. In other words, it is the type of the object being referred to (not the type of the reference variable) that determines which version of an overridden method will be executed."
   ]
  },
  {
   "cell_type": "code",
   "execution_count": 46,
   "id": "98ee5baa",
   "metadata": {},
   "outputs": [
    {
     "name": "stdout",
     "output_type": "stream",
     "text": [
      "Inside Parent\n",
      "Inside Child\n"
     ]
    }
   ],
   "source": [
    "# Python program to demonstrate \n",
    "# method overriding\n",
    "  \n",
    "  \n",
    "# Defining parent class\n",
    "class Parent():\n",
    "      \n",
    "    # Constructor\n",
    "    def __init__(self):\n",
    "        self.value = \"Inside Parent\"\n",
    "          \n",
    "    # Parent's show method\n",
    "    def show(self):\n",
    "        print(self.value)\n",
    "          \n",
    "# Defining child class\n",
    "class Child(Parent):\n",
    "      \n",
    "    # Constructor\n",
    "    def __init__(self):\n",
    "        self.value = \"Inside Child\"\n",
    "          \n",
    "    # Child's show method\n",
    "    def show(self):\n",
    "        print(self.value)\n",
    "          \n",
    "          \n",
    "# Driver's code\n",
    "obj1 = Parent()\n",
    "obj2 = Child()\n",
    "  \n",
    "obj1.show()\n",
    "obj2.show()"
   ]
  },
  {
   "cell_type": "code",
   "execution_count": null,
   "id": "490c29c0",
   "metadata": {},
   "outputs": [],
   "source": []
  }
 ],
 "metadata": {
  "kernelspec": {
   "display_name": "Python 3 (ipykernel)",
   "language": "python",
   "name": "python3"
  },
  "language_info": {
   "codemirror_mode": {
    "name": "ipython",
    "version": 3
   },
   "file_extension": ".py",
   "mimetype": "text/x-python",
   "name": "python",
   "nbconvert_exporter": "python",
   "pygments_lexer": "ipython3",
   "version": "3.9.13"
  }
 },
 "nbformat": 4,
 "nbformat_minor": 5
}

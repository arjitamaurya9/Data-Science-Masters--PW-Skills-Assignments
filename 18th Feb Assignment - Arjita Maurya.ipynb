{
 "cells": [
  {
   "cell_type": "markdown",
   "id": "d3eda07a",
   "metadata": {},
   "source": [
    "Q1. What is an API? Give an example, where an API is used in real life."
   ]
  },
  {
   "cell_type": "markdown",
   "id": "eaa21183",
   "metadata": {},
   "source": [
    "An API is a communication interface that allows two separate software components to share data. An API operates as a bridge between internal and external software operations, allowing for a fluid interchange of data that frequently passes undetected by the end-user. Simply said, an API acts as a virtual middleman, transferring data from one interface, such as a mobile app, to another. APIs connect various sections of a software platform to guarantee that information is sent correctly. \n",
    "\n",
    "**Log-in Using XYZ**\n",
    "\n",
    "A well-known API example usage is the \"log in with Facebook/Twitter/Google/GitHub\" capability seen on many websites. It's quite useful, but have you ever pondered how it works? Rather than entering into users' social media accounts (which would be a severe security risk), applications with this capability use the APIs of these platforms to authenticate the user with each login.\n",
    "\n",
    "It operates in a straightforward manner. When the program loads, it checks the API to see whether the user is already logged in to whichever social networking platform. If not, when the user hits the \"Log-in Using XYZ\" button, a pop-up appears asking them to confirm they really want to log in with that social network profile. When the user confirms, the API sends identity information to the application, letting it know who is logging in.\n",
    "\n"
   ]
  },
  {
   "cell_type": "markdown",
   "id": "1dc2c111",
   "metadata": {},
   "source": [
    "Q2. Give advantages and disadvantages of using API."
   ]
  },
  {
   "cell_type": "markdown",
   "id": "4e498603",
   "metadata": {},
   "source": [
    "**Pros**\n",
    "\n",
    "* **Increased Visibility and Traffic** -First, it allows you to share your data and functionality with a broader audience, increasing traffic and visibility for your website or app.\n",
    "\n",
    "* **Seamless Integration** - It makes it easy to integrate with other applications and services, saving you time and money.\n",
    "\n",
    "* **Increased Efficiency** - It allows you to access data and functionality without navigating multiple menus or screens. This can speed up the development process and make your app or website more user-friendly.\n",
    "\n",
    "* **Easier Maintenance** - It reduces the amount of work needed on the back-end, making maintenance and updates more effortless and less time-consuming.\n",
    "\n",
    "* **Reduced Costs** - It allows developers to reuse code and functionality in multiple applications, saving time and money.\n",
    "\n",
    "* **Improved Customer Experience** - It makes it easier for users to access your data and functionality across multiple devices or platforms, improving the user experience and increasing customer satisfaction.\n",
    "\n",
    "**API Cons**\n",
    "\n",
    "* **Increased Complexity** - First, they can be complex and challenging to use, making them challenging for novice developers.\n",
    "\n",
    "* **Limited Functionality** - They may not have all the functionality you need, requiring additional development work.\n",
    "\n",
    "* **Dependency on Third Party Services** - If it depends on a third-party service, your application will also be unavailable.\n",
    "\n",
    "* **Security and Privacy Risks** - They can pose security and privacy risks if they’re not implemented correctly. Therefore, it’s essential to carefully consider these risks before using them in your application"
   ]
  },
  {
   "cell_type": "markdown",
   "id": "c0c16183",
   "metadata": {},
   "source": [
    "Q3. What is a Web API? Differentiate between API and Web API."
   ]
  },
  {
   "cell_type": "markdown",
   "id": "afd62c49",
   "metadata": {},
   "source": [
    "Web API is an API as the name suggests, it can be accessed over the web using the HTTP protocol. It is a framework that helps you to create and develop HTTP based RESTFUL services. The web API can be developed by using different technologies such as java, ASP.NET, etc. Web API is used in either a web server or a web browser. Basically Web API is a web development concept. It is limited to Web Application’s client-side and also it does not include a web server or web browser details. If an application is to be used on a distributed system and to provide services on different devices like laptops, mobiles, etc then web API services are used. Web API is the enhanced form of the web application.\n",
    "\n",
    "The main difference between an API and a Web API is that APIs can be accessed through different channels, including desktop applications, mobile apps, and embedded systems, whereas Web APIs are specifically designed to be accessed over the web using HTTP."
   ]
  },
  {
   "cell_type": "markdown",
   "id": "120b4b62",
   "metadata": {},
   "source": [
    "Q4. Explain REST and SOAP Architecture. Mention shortcomings of SOAP."
   ]
  },
  {
   "cell_type": "markdown",
   "id": "6ecd80f9",
   "metadata": {},
   "source": [
    "* **What is SOAP?**\n",
    "SOAP is a protocol which was designed before REST and came into the picture. The main idea behind designing SOAP was to ensure that programs built on different platforms and programming languages could exchange data in an easy manner. SOAP stands for Simple Object Access Protocol.\n",
    "\n",
    "* **What is REST?**\n",
    "REST was designed specifically for working with components such as media components, files, or even objects on a particular hardware device. Any web service that is defined on the principles of REST can be called a RestFul web service. A Restful service would use the normal HTTP verbs of GET, POST, PUT and DELETE for working with the required components. REST stands for Representational State Transfer.\n",
    "\n",
    "**Shortcomings of SOAP**- \n",
    "\n",
    "* Highly complex - In comparison to Rest, SOAP is significantly more complex. It's also less flexible. This might present a challenge for developers that are not highly skilled. The extensive processing required may also slow down performance.\n",
    "\n",
    "* No variety of data formats - SOAP is also extremely limited in its support of data formats. The formats supported by Rest include HTML, JSON, YAML, XML and others. Meanwhile, SOAP only supports XML.\n",
    "\n",
    "* API calls are not cached - The process where a request is sent after an API is set up with the correct endpoints is referred to as an API call. The process results in the information being transferred, processed and feedback being provided. It's not possible for SOAP API calls to be cached.\n",
    "\n",
    "* Uses more bandwidth - SOAP is generally slower in comparison to Rest and it also uses more bandwidth given its very complex nature. It’s another limiting factor in the efficacy of this technology for certain projects."
   ]
  },
  {
   "cell_type": "markdown",
   "id": "50fd16be",
   "metadata": {},
   "source": [
    "Q5. Differentiate between REST and SOAP."
   ]
  },
  {
   "cell_type": "markdown",
   "id": "66b8fb50",
   "metadata": {},
   "source": [
    "| REST | SOAP | \n",
    "| --- | --- |\n",
    "| Relies on SOAP (Simple Object Access Protocol) | Relies on REST (Representational State Transfer) architecture using HTTP. | \n",
    "| Transports data in standard XML format.| Generally transports data in JSON. It is based on URI. Because REST follows statelessmodel, REST does not enforces message format as XML or JSON etc.|\n",
    "| Because it is XML based and relies on SOAP, it works with WSDL | It works with GET, POST, PUT, DELETE | \n",
    "| Works over HTTP, HTTPS, SMTP, XMPP| Works over HTTP and HTTPS |\n",
    "| Highly structured/typed | Less structured -> less bulky data |\n",
    "| Designed with large enterprise applications in mind | Designed with mobile devices in mind"
   ]
  },
  {
   "cell_type": "code",
   "execution_count": null,
   "id": "9dcd9b4b",
   "metadata": {},
   "outputs": [],
   "source": []
  }
 ],
 "metadata": {
  "kernelspec": {
   "display_name": "Python 3 (ipykernel)",
   "language": "python",
   "name": "python3"
  },
  "language_info": {
   "codemirror_mode": {
    "name": "ipython",
    "version": 3
   },
   "file_extension": ".py",
   "mimetype": "text/x-python",
   "name": "python",
   "nbconvert_exporter": "python",
   "pygments_lexer": "ipython3",
   "version": "3.9.13"
  }
 },
 "nbformat": 4,
 "nbformat_minor": 5
}

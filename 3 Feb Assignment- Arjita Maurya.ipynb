{
 "cells": [
  {
   "cell_type": "markdown",
   "id": "56750950",
   "metadata": {},
   "source": [
    "Q1. Which keyword is used to create a function? Create a function to return a list of odd numbers in the  range of 1 to 25"
   ]
  },
  {
   "cell_type": "markdown",
   "id": "20281f66",
   "metadata": {},
   "source": [
    "Ans-1) The def keyword is used to create, (or define) a function."
   ]
  },
  {
   "cell_type": "code",
   "execution_count": 3,
   "id": "c8608726",
   "metadata": {},
   "outputs": [],
   "source": [
    "#Function to return a list of odd numbers in the range of 1 to 25 \n",
    "def odd_numb(a,b):\n",
    "    n=[]\n",
    "    for i in range(a,b):\n",
    "        if i%2==1:\n",
    "            n.append(i)\n",
    "        else: \n",
    "            pass\n",
    "    return n"
   ]
  },
  {
   "cell_type": "code",
   "execution_count": 4,
   "id": "9c0822b2",
   "metadata": {},
   "outputs": [
    {
     "data": {
      "text/plain": [
       "[1, 3, 5, 7, 9, 11, 13, 15, 17, 19, 21, 23]"
      ]
     },
     "execution_count": 4,
     "metadata": {},
     "output_type": "execute_result"
    }
   ],
   "source": [
    "odd_numb(1,25)"
   ]
  },
  {
   "cell_type": "markdown",
   "id": "de657f3a",
   "metadata": {},
   "source": [
    "Q2. Why *args and **kwargs is used in some functions? Create a function each for *args and **kwargs to  demonstrate their use"
   ]
  },
  {
   "cell_type": "markdown",
   "id": "c8ebb965",
   "metadata": {},
   "source": [
    "Python has *args which allow us to pass the variable number of non keyword arguments to function.\n",
    "\n",
    "In the function, we should use an asterisk * before the parameter name to pass variable length arguments.The arguments are passed as a tuple and these passed arguments make tuple inside the function with same name as the parameter excluding asterisk *."
   ]
  },
  {
   "cell_type": "code",
   "execution_count": 5,
   "id": "b8e2be33",
   "metadata": {},
   "outputs": [
    {
     "name": "stdout",
     "output_type": "stream",
     "text": [
      "Sum: 8\n",
      "Sum: 22\n",
      "Sum: 17\n"
     ]
    }
   ],
   "source": [
    "#Using *args to pass the variable length arguments to the function\n",
    "def adder(*num):\n",
    "    sum = 0\n",
    "    \n",
    "    for n in num:\n",
    "        sum = sum + n\n",
    "\n",
    "    print(\"Sum:\",sum)\n",
    "\n",
    "adder(3,5)\n",
    "adder(4,5,6,7)\n",
    "adder(1,2,3,5,6)"
   ]
  },
  {
   "cell_type": "markdown",
   "id": "01acc81f",
   "metadata": {},
   "source": [
    "Python passes variable length non keyword argument to function using *args but we cannot use this to pass keyword argument. For this problem Python has got a solution called ***kwargs, it allows us to pass the variable length of keyword arguments to the function.\n",
    "\n",
    "In the function, we use the double asterisk ** before the parameter name to denote this type of argument. The arguments are passed as a dictionary and these arguments make a dictionary inside function with name same as the parameter excluding double asterisk **."
   ]
  },
  {
   "cell_type": "code",
   "execution_count": 6,
   "id": "5d1040a0",
   "metadata": {},
   "outputs": [
    {
     "name": "stdout",
     "output_type": "stream",
     "text": [
      "\n",
      "Data type of argument: <class 'dict'>\n",
      "Firstname is Sita\n",
      "Lastname is Sharma\n",
      "Age is 22\n",
      "Phone is 1234567890\n",
      "\n",
      "Data type of argument: <class 'dict'>\n",
      "Firstname is John\n",
      "Lastname is Wood\n",
      "Email is johnwood@nomail.com\n",
      "Country is Wakanda\n",
      "Age is 25\n",
      "Phone is 9876543210\n"
     ]
    }
   ],
   "source": [
    "#Using **kwargs to pass the variable keyword arguments to the function \n",
    "def intro(**data):\n",
    "    print(\"\\nData type of argument:\",type(data))\n",
    "\n",
    "    for key, value in data.items():\n",
    "        print(\"{} is {}\".format(key,value))\n",
    "\n",
    "intro(Firstname=\"Sita\", Lastname=\"Sharma\", Age=22, Phone=1234567890)\n",
    "intro(Firstname=\"John\", Lastname=\"Wood\", Email=\"johnwood@nomail.com\", Country=\"Wakanda\", Age=25, Phone=9876543210)"
   ]
  },
  {
   "cell_type": "markdown",
   "id": "46aa35ee",
   "metadata": {},
   "source": [
    "Q3.  What is an iterator in python? Name the method used to initialise the iterator object and the method  used for iteration. Use these methods to print the first five elements of the given list [2, 4, 6, 8, 10, 12, 14, 16,  18, 20]. "
   ]
  },
  {
   "cell_type": "markdown",
   "id": "15e8c0a0",
   "metadata": {},
   "source": [
    "Iterator in Python is an object that is used to iterate over iterable objects like lists, tuples, dicts, and sets. The iterator object is initialized using the iter() method. It uses the next() method for iteration.\n",
    "\n",
    "__iter__(): The iter() method is called for the initialization of an iterator. This returns an iterator object\n",
    "\n",
    "__next__(): The next method returns the next value for the iterable. When we use a for loop to traverse any iterable object, internally it uses the iter() method to get an iterator object, which further uses the next() method to iterate over. This method raises a StopIteration to signal the end of the iteration."
   ]
  },
  {
   "cell_type": "code",
   "execution_count": 15,
   "id": "03d750ca",
   "metadata": {},
   "outputs": [
    {
     "name": "stdout",
     "output_type": "stream",
     "text": [
      "2\n",
      "4\n",
      "6\n",
      "8\n",
      "10\n",
      "12\n",
      "14\n",
      "16\n",
      "18\n",
      "20\n"
     ]
    }
   ],
   "source": [
    "l = [2, 4, 6, 8, 10, 12, 14, 16, 18, 20]\n",
    "numb = iter(l)\n",
    "print(next(numb))\n",
    "print(next(numb))\n",
    "print(next(numb))\n",
    "print(next(numb))\n",
    "print(next(numb))\n",
    "print(next(numb))\n",
    "print(next(numb))\n",
    "print(next(numb))\n",
    "print(next(numb))\n",
    "print(next(numb))"
   ]
  },
  {
   "cell_type": "markdown",
   "id": "f73c1414",
   "metadata": {},
   "source": [
    "Q4.  What is a generator function in python? Why yield keyword is used? Give an example of a generator  function. \n"
   ]
  },
  {
   "cell_type": "markdown",
   "id": "46c26253",
   "metadata": {},
   "source": [
    "A generator is a kind of function that returns an object called a generator object which can return a series of values rather than a single value. Generators are typically defined with the def keyword. A generator must have at least one yield statement. A Generator can have more than one yield statement. A generator returns a generator object which is similar to an iterator object.\n",
    "yield keyword is used to create a generator function."
   ]
  },
  {
   "cell_type": "code",
   "execution_count": 16,
   "id": "96c40500",
   "metadata": {},
   "outputs": [
    {
     "name": "stdout",
     "output_type": "stream",
     "text": [
      "The original list is : [1, 4, 5, 6, 7]\n",
      "The even numbers in list are :  4 6 "
     ]
    }
   ],
   "source": [
    "\n",
    "# generator to print even numbers\n",
    "def print_even(test_list):\n",
    "    for i in test_list:\n",
    "        if i % 2 == 0:\n",
    "            yield i\n",
    " \n",
    "# initializing list\n",
    "test_list = [1, 4, 5, 6, 7]\n",
    " \n",
    "# printing initial list\n",
    "print(\"The original list is : \" + str(test_list))\n",
    " \n",
    "# printing even numbers\n",
    "print(\"The even numbers in list are : \", end=\" \")\n",
    "for j in print_even(test_list):\n",
    "    print(j, end=\" \")"
   ]
  },
  {
   "cell_type": "markdown",
   "id": "016aabf6",
   "metadata": {},
   "source": [
    "5. Create a generator function for prime numbers less than 1000. Use the next() method to print the  first 20 prime numbers. "
   ]
  },
  {
   "cell_type": "code",
   "execution_count": 3,
   "id": "1e423b4b",
   "metadata": {},
   "outputs": [],
   "source": [
    "def generateprime(N):\n",
    "    primes = [2]  # Initialize an empty list to store prime numbers and add 2 as the first prime number\n",
    "    num = 3  # Start checking for prime numbers from 3\n",
    "    while len(primes) < N:  # Keep searching until we find N prime numbers\n",
    "        is_prime = True  # Assume the current number is prime until proven otherwise\n",
    "        for i in range(len(primes)):\n",
    "            if num % primes[i] == 0:  # If the current number is divisible by any previously found prime numbers\n",
    "                is_prime = False  # Then it is not a prime number\n",
    "                break  # Exit the loop since we've already proven it's not prime\n",
    "        if is_prime:  # If the current number is still prime after checking all previously found prime numbers\n",
    "            primes.append(num)  # Add it to our list of prime numbers\n",
    "        num += 2  # Check the next odd number (since even numbers other than 2 are not prime)\n",
    " \n",
    "    for i in range(len(primes)):  # Print the first N prime numbers\n",
    "        print(primes[i], end=\" \")         "
   ]
  },
  {
   "cell_type": "code",
   "execution_count": 4,
   "id": "135bc83b",
   "metadata": {},
   "outputs": [
    {
     "name": "stdout",
     "output_type": "stream",
     "text": [
      "2 3 5 7 11 13 17 19 23 29 31 37 41 43 47 53 59 61 67 71 "
     ]
    }
   ],
   "source": [
    "generateprime(20)"
   ]
  }
 ],
 "metadata": {
  "kernelspec": {
   "display_name": "Python 3 (ipykernel)",
   "language": "python",
   "name": "python3"
  },
  "language_info": {
   "codemirror_mode": {
    "name": "ipython",
    "version": 3
   },
   "file_extension": ".py",
   "mimetype": "text/x-python",
   "name": "python",
   "nbconvert_exporter": "python",
   "pygments_lexer": "ipython3",
   "version": "3.9.13"
  }
 },
 "nbformat": 4,
 "nbformat_minor": 5
}

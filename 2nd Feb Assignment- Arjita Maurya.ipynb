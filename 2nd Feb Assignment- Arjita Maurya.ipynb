{
 "cells": [
  {
   "cell_type": "markdown",
   "id": "c7bac394",
   "metadata": {},
   "source": [
    "Q1. What are the characteristics of the tuples? Is tuple immutable? "
   ]
  },
  {
   "cell_type": "markdown",
   "id": "bd2effe4",
   "metadata": {},
   "source": [
    "Ans-1) Tuples are an immutable data type, which means that once they have been generated, their elements cannot be changed.\n",
    "\n",
    "Since tuples are ordered sequences, each element has a specific order that will never change"
   ]
  },
  {
   "cell_type": "markdown",
   "id": "3b8a3653",
   "metadata": {},
   "source": [
    "Q2. What are the two tuple methods in python? Give an example of each method. Give a reason why  tuples have only two in-built methods as compared to Lists. \n"
   ]
  },
  {
   "cell_type": "code",
   "execution_count": 11,
   "id": "a8460d07",
   "metadata": {},
   "outputs": [
    {
     "name": "stdout",
     "output_type": "stream",
     "text": [
      "Count of 2 in T1 is: 5\n",
      "Count of Java in T2 is: 2\n"
     ]
    }
   ],
   "source": [
    "#Ans-2)count() Returns the number of times a specified value occurs in a tuple\n",
    "# Creating tuples  \n",
    "T1 = (0, 1, 5, 6, 7, 2, 2, 4, 2, 3, 2, 3, 1, 3, 2)  \n",
    "T2 = ('python', 'java', 'python', 'Tpoint', 'python', 'java')  \n",
    "# counting the appearance of 3  \n",
    "res = T1.count(2)  \n",
    "print('Count of 2 in T1 is:', res)  \n",
    "# counting the appearance of java  \n",
    "res = T2.count('java')  \n",
    "print('Count of Java in T2 is:', res)  "
   ]
  },
  {
   "cell_type": "code",
   "execution_count": 12,
   "id": "b44386e3",
   "metadata": {},
   "outputs": [
    {
     "name": "stdout",
     "output_type": "stream",
     "text": [
      "First occurrence of 1 is 3\n",
      "First occurrence of 1 after 4th index is: 5\n"
     ]
    }
   ],
   "source": [
    "#index() Searches the tuple for a specified value and returns the position of where it was found\n",
    "# Creating tuples  \n",
    "Tuple_data = (0, 1, 2, 3, 2, 3, 1, 3, 2)  \n",
    "# getting the index of 3  \n",
    "res = Tuple_data.index(3)  \n",
    "print('First occurrence of 1 is', res)  \n",
    "# getting the index of 3 after 4th  \n",
    "# index  \n",
    "res = Tuple_data.index(3, 4)  \n",
    "print('First occurrence of 1 after 4th index is:', res) "
   ]
  },
  {
   "cell_type": "markdown",
   "id": "1994ba54",
   "metadata": {},
   "source": [
    "Tuples have only two in-built methods as compared to Lists because tuples are immutable."
   ]
  },
  {
   "cell_type": "markdown",
   "id": "ee3c2891",
   "metadata": {},
   "source": [
    "Q3.  Which collection datatypes in python do not allow duplicate items? Write a code using a set to remove  duplicates from the given list. "
   ]
  },
  {
   "cell_type": "code",
   "execution_count": 15,
   "id": "202a740e",
   "metadata": {},
   "outputs": [
    {
     "name": "stdout",
     "output_type": "stream",
     "text": [
      "The original list is : [1, 1, 1, 2, 1, 3, 1, 4, 2, 1, 2, 2, 2, 3, 2, 4, 3, 1, 3, 2, 3, 3, 3, 4, 4, 1, 4, 2, 4, 3, 4, 4]\n",
      "The list after removing duplicates : [1, 2, 3, 4]\n"
     ]
    }
   ],
   "source": [
    "#Ans-3) Set collection datatypes in python do not allow duplicate items\n",
    "# initializing list\n",
    "test_list = [1, 1, 1, 2, 1, 3, 1, 4, 2, 1, 2, 2, 2, 3, 2, 4, 3, 1, 3, 2, 3, 3, 3, 4, 4, 1, 4, 2, 4, 3, 4, 4] \n",
    "print (\"The original list is : \"\n",
    "        + str(test_list))\n",
    " \n",
    "# using set()\n",
    "# to remove duplicated\n",
    "# from list\n",
    "test_list = list(set(test_list))\n",
    " \n",
    "# printing list after removal\n",
    "# distorted ordering\n",
    "print (\"The list after removing duplicates : \"\n",
    "        + str(test_list))"
   ]
  },
  {
   "cell_type": "markdown",
   "id": "c1178646",
   "metadata": {},
   "source": [
    "Q4. Explain the difference between the union() and update() methods for a set. Give an example of  each method"
   ]
  },
  {
   "cell_type": "code",
   "execution_count": 16,
   "id": "dd6e96e0",
   "metadata": {},
   "outputs": [
    {
     "name": "stdout",
     "output_type": "stream",
     "text": [
      "set1 U set2 :  {2, 4, 5, 6, 7, 8}\n",
      "set1 U set2 U set3 : {2, 4, 5, 6, 7, 8, 9, 10}\n"
     ]
    }
   ],
   "source": [
    "# Ans-4) Union() Method returns a new set which contains all the items from the original set.\n",
    "set1 = {2, 4, 5, 6}\n",
    "set2 = {4, 6, 7, 8}\n",
    "set3 = {7, 8, 9, 10}\n",
    " \n",
    "# union of two sets\n",
    "print(\"set1 U set2 : \", set1 | set2)\n",
    " \n",
    "# union of three sets\n",
    "print(\"set1 U set2 U set3 :\", set1 |set2 | set3)"
   ]
  },
  {
   "cell_type": "code",
   "execution_count": 17,
   "id": "63550720",
   "metadata": {},
   "outputs": [
    {
     "name": "stdout",
     "output_type": "stream",
     "text": [
      "{1, 2, 3, 5, 6, 7}\n",
      "{1, 2, 3, 5, 6, 7, 10, 11, 12}\n"
     ]
    }
   ],
   "source": [
    "#update() function in set adds elements from a set (passed as an argument) to the set. \n",
    "# Python program to demonstrate the\n",
    "# use of update() method\n",
    " \n",
    "list1 = [1, 2, 3]\n",
    "list2 = [5, 6, 7]\n",
    "list3 = [10, 11, 12]\n",
    " \n",
    "# Lists converted to sets\n",
    "set1 = set(list2)\n",
    "set2 = set(list1)\n",
    " \n",
    "# Update method\n",
    "set1.update(set2)\n",
    " \n",
    "# Print the updated set\n",
    "print(set1)\n",
    " \n",
    "# List is passed as an parameter which\n",
    "# gets automatically converted to a set\n",
    "set1.update(list3)\n",
    "print(set1)"
   ]
  },
  {
   "cell_type": "markdown",
   "id": "077cc32c",
   "metadata": {},
   "source": [
    "It is very similar to union() method, with difference is that where union() method create and return a new set, containing all the elements ( distinct ) present in all the iterables, update() method updates the set on which this method is called with all the distinct elements present in all the iterables."
   ]
  },
  {
   "cell_type": "markdown",
   "id": "e3e90ba8",
   "metadata": {},
   "source": [
    "Q5. What is a dictionary? Give an example. Also, state whether a dictionary is ordered or unordered. "
   ]
  },
  {
   "cell_type": "markdown",
   "id": "c8bc4043",
   "metadata": {},
   "source": [
    "The dictionary is an unordered collection that contains key:value pairs separated by commas inside curly brackets. Dictionaries are optimized to retrieve values when the key is known.\n",
    "\n",
    "The following declares a dictionary object."
   ]
  },
  {
   "cell_type": "code",
   "execution_count": 19,
   "id": "24f4ec17",
   "metadata": {},
   "outputs": [],
   "source": [
    "capitals = {\"USA\":\"Washington D.C.\", \"France\":\"Paris\", \"India\":\"New Delhi\"}"
   ]
  },
  {
   "cell_type": "markdown",
   "id": "5656391b",
   "metadata": {},
   "source": [
    "Q6. Can we create a nested dictionary? If so, please give an example by creating a simple one-level  nested dictionary. "
   ]
  },
  {
   "cell_type": "code",
   "execution_count": 20,
   "id": "cbea644d",
   "metadata": {},
   "outputs": [],
   "source": [
    "nested_dict = { 'dict1': {'key_A': 'value_A'},\n",
    "                'dict2': {'key_B': 'value_B'}}"
   ]
  },
  {
   "cell_type": "markdown",
   "id": "ff70114f",
   "metadata": {},
   "source": [
    "Q7. Using setdefault() method, create key named topics in the given dictionary and also add the value of  the key as this list ['Python', 'Machine Learning’, 'Deep Learning'] "
   ]
  },
  {
   "cell_type": "code",
   "execution_count": 29,
   "id": "9eb828c3",
   "metadata": {},
   "outputs": [
    {
     "name": "stdout",
     "output_type": "stream",
     "text": [
      "Dictionary before using setdefault(): {'language': 'Python', 'course': 'Data Science Masters'}\n",
      "Return value of setdefault(): ['Python', 'Machine Learning', 'Deep Learning']\n",
      "Dictionary after using setdefault(): {'language': 'Python', 'course': 'Data Science Masters', 'topics': ['Python', 'Machine Learning', 'Deep Learning']}\n"
     ]
    }
   ],
   "source": [
    "dict1 = {'language' : 'Python', 'course': 'Data Science Masters'} \n",
    "print(\"Dictionary before using setdefault():\", dict1)\n",
    "  \n",
    "# using setdefault() when key is non-existing\n",
    "ret_value = dict1.setdefault( \"topics\",[\"Python\", \"Machine Learning\" , \"Deep Learning\"] )\n",
    "print(\"Return value of setdefault():\", ret_value)\n",
    "  \n",
    "print(\"Dictionary after using setdefault():\", dict1)"
   ]
  },
  {
   "cell_type": "markdown",
   "id": "ea376664",
   "metadata": {},
   "source": [
    "Q8. What are the three view objects in dictionaries? Use the three in-built methods in python to display  these three view objects for the given dictionary. \n",
    "\n",
    "dict1 = {'Sport': 'Cricket' , 'Teams': ['India', 'Australia', 'England', 'South Africa', 'Sri Lanka', 'New Zealand']} "
   ]
  },
  {
   "cell_type": "markdown",
   "id": "5637392a",
   "metadata": {},
   "source": [
    "Ans-8) The main view objects of dictionary in python are keys, values and items."
   ]
  },
  {
   "cell_type": "code",
   "execution_count": 33,
   "id": "f07e1dd0",
   "metadata": {},
   "outputs": [
    {
     "data": {
      "text/plain": [
       "dict_keys(['Sport', 'Teams'])"
      ]
     },
     "execution_count": 33,
     "metadata": {},
     "output_type": "execute_result"
    }
   ],
   "source": [
    "dict1 = {'Sport': 'Cricket' , 'Teams': ['India', 'Australia', 'England', 'South Africa', 'Sri Lanka', 'New Zealand']}\n",
    "dict1.keys()"
   ]
  },
  {
   "cell_type": "code",
   "execution_count": 34,
   "id": "a3281e4c",
   "metadata": {},
   "outputs": [
    {
     "data": {
      "text/plain": [
       "dict_items([('Sport', 'Cricket'), ('Teams', ['India', 'Australia', 'England', 'South Africa', 'Sri Lanka', 'New Zealand'])])"
      ]
     },
     "execution_count": 34,
     "metadata": {},
     "output_type": "execute_result"
    }
   ],
   "source": [
    "dict1.items()"
   ]
  },
  {
   "cell_type": "code",
   "execution_count": 35,
   "id": "4ab025e5",
   "metadata": {},
   "outputs": [
    {
     "data": {
      "text/plain": [
       "dict_values(['Cricket', ['India', 'Australia', 'England', 'South Africa', 'Sri Lanka', 'New Zealand']])"
      ]
     },
     "execution_count": 35,
     "metadata": {},
     "output_type": "execute_result"
    }
   ],
   "source": [
    "dict1.values()"
   ]
  }
 ],
 "metadata": {
  "kernelspec": {
   "display_name": "Python 3 (ipykernel)",
   "language": "python",
   "name": "python3"
  },
  "language_info": {
   "codemirror_mode": {
    "name": "ipython",
    "version": 3
   },
   "file_extension": ".py",
   "mimetype": "text/x-python",
   "name": "python",
   "nbconvert_exporter": "python",
   "pygments_lexer": "ipython3",
   "version": "3.9.13"
  }
 },
 "nbformat": 4,
 "nbformat_minor": 5
}

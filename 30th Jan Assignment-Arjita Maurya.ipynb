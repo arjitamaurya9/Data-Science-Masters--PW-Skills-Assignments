{
 "cells": [
  {
   "cell_type": "markdown",
   "id": "e72accf8",
   "metadata": {},
   "source": [
    "Q-1) Write a program to accept percentage from the user and display the grade according to the following "
   ]
  },
  {
   "cell_type": "markdown",
   "id": "17a96e76",
   "metadata": {},
   "source": [
    "Ans-1)"
   ]
  },
  {
   "cell_type": "code",
   "execution_count": 7,
   "id": "964fee6f",
   "metadata": {},
   "outputs": [
    {
     "name": "stdout",
     "output_type": "stream",
     "text": [
      "Enter the percentage: 60\n",
      "Your Grade is D\n"
     ]
    }
   ],
   "source": [
    "percentage=int(input(\"Enter the percentage: \"))\n",
    "if percentage>90:\n",
    "    print(\"Your Grade is A\")\n",
    "elif percentage>80 and percentage<=90:\n",
    "    print(\"Your Grade is B\")\n",
    "elif percentage>60 and percentage<=80:\n",
    "    print(\"Your Grade is C\")\n",
    "else:\n",
    "    print(\"Your Grade is D\")"
   ]
  },
  {
   "cell_type": "markdown",
   "id": "b6a9ed50",
   "metadata": {},
   "source": [
    "Q-2) Write a program to accept the cost price of a bike and display the road tax to be paid according to the \n",
    "following criteria: "
   ]
  },
  {
   "cell_type": "markdown",
   "id": "94f4a94b",
   "metadata": {},
   "source": [
    "Ans-2)"
   ]
  },
  {
   "cell_type": "code",
   "execution_count": 2,
   "id": "0dbafb49",
   "metadata": {},
   "outputs": [
    {
     "name": "stdout",
     "output_type": "stream",
     "text": [
      "Enter the cost price of the bike: 55000\n",
      "Road tax to be paid is 5500.0\n"
     ]
    }
   ],
   "source": [
    "Price=int(input(\"Enter the cost price of the bike: \"))\n",
    "if Price>100000:\n",
    "    print(f\"Road tax to be paid is {0.15*Price}\")\n",
    "elif Price>50000 and Price<=100000:\n",
    "    print(f\"Road tax to be paid is {0.10*Price}\")\n",
    "else:\n",
    "    print(f\"Road tax to be paid is {0.05*Price}\")"
   ]
  },
  {
   "cell_type": "markdown",
   "id": "fab61ca2",
   "metadata": {},
   "source": [
    " Q-3)Accept any city from the user and display monuments of that city."
   ]
  },
  {
   "cell_type": "markdown",
   "id": "141a325a",
   "metadata": {},
   "source": [
    "Ans-3)"
   ]
  },
  {
   "cell_type": "code",
   "execution_count": 5,
   "id": "6cfdb323",
   "metadata": {},
   "outputs": [
    {
     "name": "stdout",
     "output_type": "stream",
     "text": [
      "Enter the city name: Agra\n",
      "Monument is Taj Mahal\n"
     ]
    }
   ],
   "source": [
    "city=input(\"Enter the city name: \")\n",
    "if city==\"Delhi\":\n",
    "    print(\"Monument is Red Fort\")\n",
    "elif city==\"Agra\":\n",
    "    print(\"Monument is Taj Mahal\")\n",
    "elif city==\"Jaipur\":\n",
    "    print(\"Monument is Jal Mahal\")\n",
    "else:\n",
    "    print(\"Invalid City\")"
   ]
  },
  {
   "cell_type": "markdown",
   "id": "332ed1ae",
   "metadata": {},
   "source": [
    "Q-4)Check how many times a given number can be divided by 3 before it is less than or equal to 10."
   ]
  },
  {
   "cell_type": "markdown",
   "id": "1339f06b",
   "metadata": {},
   "source": [
    "Ans-4) "
   ]
  },
  {
   "cell_type": "code",
   "execution_count": null,
   "id": "f4c09fb8",
   "metadata": {},
   "outputs": [],
   "source": [
    "numb=int(input(\"Enter the number: \"))\n",
    "i=0\n",
    "while numb//3>=10:\n",
    "    print(f\"{i} times the given number can be divided by 3 before it is less than or equal to 10\")\n",
    "    i=i+1\n",
    "else:\n",
    "    print(\"0 times the given number can be divided by 3 before it is less than or equal to 10\")"
   ]
  },
  {
   "cell_type": "markdown",
   "id": "07b08f39",
   "metadata": {},
   "source": [
    "Q-5) Why and When to Use while Loop in Python give a detailed description with example."
   ]
  },
  {
   "cell_type": "markdown",
   "id": "effb2939",
   "metadata": {},
   "source": [
    "Ans-5)"
   ]
  },
  {
   "cell_type": "markdown",
   "id": "9ff05807",
   "metadata": {},
   "source": [
    "***A While loop in Python allows a part of the code to be executed repeatedly as long as a given condition is true. The While loop in Python is also called a pre-tested loop. It is typically used when the number of iterations is not known.***\n",
    "\n",
    "A Python While loop expression/condition consists of three parts:\n",
    "\n",
    "*A piece of code that needs to be repeated over and over\n",
    "\n",
    "*The while keyword\n",
    "\n",
    "*A condition that translates to either True or False"
   ]
  },
  {
   "cell_type": "markdown",
   "id": "397c560f",
   "metadata": {},
   "source": [
    "Example)"
   ]
  },
  {
   "cell_type": "code",
   "execution_count": 2,
   "id": "04ea2d01",
   "metadata": {},
   "outputs": [
    {
     "name": "stdout",
     "output_type": "stream",
     "text": [
      "1\n",
      "2\n",
      "3\n",
      "4\n"
     ]
    }
   ],
   "source": [
    "i = 1\n",
    "while i < 5 :\n",
    "    print(i)\n",
    "    i += 1"
   ]
  },
  {
   "cell_type": "markdown",
   "id": "fa884826",
   "metadata": {},
   "source": [
    "Q-6) Use nested while loop to print 3 different pattern. "
   ]
  },
  {
   "cell_type": "markdown",
   "id": "ee3fb6cd",
   "metadata": {},
   "source": [
    "Ans-6)"
   ]
  },
  {
   "cell_type": "code",
   "execution_count": 4,
   "id": "9a6309f6",
   "metadata": {},
   "outputs": [
    {
     "name": "stdout",
     "output_type": "stream",
     "text": [
      "*\r\n",
      "**\r\n",
      "***\r\n",
      "****\r\n",
      "*****\r\n",
      "******\r\n",
      "*******\r\n"
     ]
    }
   ],
   "source": [
    "n=7\n",
    "\n",
    "for i in range(0,n):\n",
    "    for j in range(0,i+1):\n",
    "        print(\"*\",end=\"\")\n",
    "    print(\"\\r\")"
   ]
  },
  {
   "cell_type": "code",
   "execution_count": 5,
   "id": "f049930d",
   "metadata": {},
   "outputs": [
    {
     "name": "stdout",
     "output_type": "stream",
     "text": [
      "*******\r\n",
      "*******\r\n",
      "*******\r\n",
      "*******\r\n",
      "*******\r\n",
      "*******\r\n",
      "*******\r\n"
     ]
    }
   ],
   "source": [
    "n=7\n",
    "\n",
    "for i in range(0,n):\n",
    "    for j in range(0,n):\n",
    "        print(\"*\",end=\"\")\n",
    "    print(\"\\r\")"
   ]
  },
  {
   "cell_type": "code",
   "execution_count": 9,
   "id": "480fdef3",
   "metadata": {},
   "outputs": [
    {
     "name": "stdout",
     "output_type": "stream",
     "text": [
      "                    * \n",
      "                   * * \n",
      "                  * * * \n",
      "                 * * * * \n",
      "                * * * * * \n",
      "               * * * * * * \n",
      "              * * * * * * * \n",
      "             * * * * * * * * \n",
      "            * * * * * * * * * \n",
      "           * * * * * * * * * * \n"
     ]
    }
   ],
   "source": [
    "n=20\n",
    "for i in range(1, 11):\n",
    "    print(' '*n, end='')\n",
    "    print('* '*(i))\n",
    "    n-=1"
   ]
  },
  {
   "cell_type": "markdown",
   "id": "b6ca589f",
   "metadata": {},
   "source": [
    "Q-7) Reverse a while loop to display numbers from 10 to 1"
   ]
  },
  {
   "cell_type": "markdown",
   "id": "db2f7b5d",
   "metadata": {},
   "source": [
    "Ans-7) "
   ]
  },
  {
   "cell_type": "code",
   "execution_count": 12,
   "id": "81b5e4ee",
   "metadata": {},
   "outputs": [
    {
     "name": "stdout",
     "output_type": "stream",
     "text": [
      "10\n",
      "9\n",
      "8\n",
      "7\n",
      "6\n",
      "5\n",
      "4\n",
      "3\n",
      "2\n",
      "1\n"
     ]
    }
   ],
   "source": [
    "i=10\n",
    "while i>0:\n",
    "    print (i)\n",
    "    i=i-1\n"
   ]
  },
  {
   "cell_type": "code",
   "execution_count": null,
   "id": "e041f695",
   "metadata": {},
   "outputs": [],
   "source": []
  }
 ],
 "metadata": {
  "kernelspec": {
   "display_name": "Python 3 (ipykernel)",
   "language": "python",
   "name": "python3"
  },
  "language_info": {
   "codemirror_mode": {
    "name": "ipython",
    "version": 3
   },
   "file_extension": ".py",
   "mimetype": "text/x-python",
   "name": "python",
   "nbconvert_exporter": "python",
   "pygments_lexer": "ipython3",
   "version": "3.9.13"
  }
 },
 "nbformat": 4,
 "nbformat_minor": 5
}

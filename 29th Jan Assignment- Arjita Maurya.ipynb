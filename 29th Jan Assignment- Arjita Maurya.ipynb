{
 "cells": [
  {
   "cell_type": "markdown",
   "id": "55d36c9a",
   "metadata": {},
   "source": [
    "Q-1) Who developed Python Programming Language? "
   ]
  },
  {
   "cell_type": "markdown",
   "id": "9a2d02bc",
   "metadata": {},
   "source": [
    "Ans-1) Guido van Rossum"
   ]
  },
  {
   "cell_type": "markdown",
   "id": "ab39383a",
   "metadata": {},
   "source": [
    "Q-2)  Which type of Programming does Python support? "
   ]
  },
  {
   "cell_type": "markdown",
   "id": "09a61e20",
   "metadata": {},
   "source": [
    "Ans-2)Object-oriented programming and structured programming are fully supported, and many of their features support functional programming and aspect-oriented programming "
   ]
  },
  {
   "cell_type": "markdown",
   "id": "d6d8de84",
   "metadata": {},
   "source": [
    " Q-3) Is Python case sensitive when dealing with identifiers?"
   ]
  },
  {
   "cell_type": "markdown",
   "id": "0b07d96f",
   "metadata": {},
   "source": [
    "Ans-3) Yes"
   ]
  },
  {
   "cell_type": "markdown",
   "id": "1e387b33",
   "metadata": {},
   "source": [
    "Q-4)  What is the correct extension of the Python file?"
   ]
  },
  {
   "cell_type": "markdown",
   "id": "3fc76dea",
   "metadata": {},
   "source": [
    "Ans-4) .py\n"
   ]
  },
  {
   "cell_type": "markdown",
   "id": "5110785f",
   "metadata": {},
   "source": [
    "Q-5) Is Python code compiled or interpreted?"
   ]
  },
  {
   "cell_type": "markdown",
   "id": "2b2f0238",
   "metadata": {},
   "source": [
    "Ans-5) Python is an interpreted language"
   ]
  },
  {
   "cell_type": "markdown",
   "id": "24b00b0f",
   "metadata": {},
   "source": [
    "Q-6)  Name a few blocks of code used to define in Python language?"
   ]
  },
  {
   "cell_type": "markdown",
   "id": "2e2c730b",
   "metadata": {},
   "source": [
    "Ans-6) The following are blocks: a module, a function body, and a class definition. Each command typed interactively is a block. A script file (a file given as standard input to the interpreter or specified as a command line argument to the interpreter) is a code block."
   ]
  },
  {
   "cell_type": "markdown",
   "id": "bc535009",
   "metadata": {},
   "source": [
    "Q-7)State a character used to give single-line comments in Python?"
   ]
  },
  {
   "cell_type": "markdown",
   "id": "b204da26",
   "metadata": {},
   "source": [
    "Ans-7) We can write a single-line comment by adding a single # character before any statement or line of code."
   ]
  },
  {
   "cell_type": "markdown",
   "id": "a9125a07",
   "metadata": {},
   "source": [
    "Q-8) Mention functions which can help us to find the version of python that we are currently working on?"
   ]
  },
  {
   "cell_type": "markdown",
   "id": "d8fb676b",
   "metadata": {},
   "source": [
    "Ans-8) The function sys. version can help us to find the version of python that we are currently working on."
   ]
  },
  {
   "cell_type": "markdown",
   "id": "baa89cde",
   "metadata": {},
   "source": [
    "Q-9) Python supports the creation of anonymous functions at runtime, using a construct called "
   ]
  },
  {
   "cell_type": "markdown",
   "id": "ab5e5982",
   "metadata": {},
   "source": [
    "Ans-9) lambda"
   ]
  },
  {
   "cell_type": "markdown",
   "id": "b5147f93",
   "metadata": {},
   "source": [
    "Q-10)  What does pip stand for python? "
   ]
  },
  {
   "cell_type": "markdown",
   "id": "113cf9f3",
   "metadata": {},
   "source": [
    "Ans-10) pip (an acronym of “pip Install Packages”) is today the standard tool for installing Python packages and their dependencies in a secure manner"
   ]
  },
  {
   "cell_type": "markdown",
   "id": "36966c11",
   "metadata": {},
   "source": [
    "Q-11) Mention a few built-in functions in python? "
   ]
  },
  {
   "cell_type": "markdown",
   "id": "ac4d7403",
   "metadata": {},
   "source": [
    "Ans-11) bool(), int(), type()"
   ]
  },
  {
   "cell_type": "markdown",
   "id": "3155a3b6",
   "metadata": {},
   "source": [
    "Q-12)  What is the maximum possible length of an identifier in Python? "
   ]
  },
  {
   "cell_type": "markdown",
   "id": "7aa781b9",
   "metadata": {},
   "source": [
    "Ans-12) 79 characters"
   ]
  },
  {
   "cell_type": "markdown",
   "id": "202af7ed",
   "metadata": {},
   "source": [
    "Q-13) What are the benefits of using Python?"
   ]
  },
  {
   "cell_type": "markdown",
   "id": "fd945b14",
   "metadata": {},
   "source": [
    "Ans-13) System Programming\n",
    "Graphical User Interface\n",
    "Web Scrapping\n",
    "Managing Database\n",
    "Fast Prototyping\n",
    "Numeric / Scientific Programming\n",
    "Game development\n",
    "Image Processing\n",
    "Robotics\n",
    "Automation\n",
    "Data science\n",
    "Data Mining"
   ]
  },
  {
   "cell_type": "markdown",
   "id": "f62cf7f3",
   "metadata": {},
   "source": [
    "Q-14) How is memory managed in Python?"
   ]
  },
  {
   "cell_type": "markdown",
   "id": "9eed71d7",
   "metadata": {},
   "source": [
    "Ans-14) Memory management in Python involves a private heap containing all Python objects and data structures. The management of this private heap is ensured internally by the Python memory manager."
   ]
  },
  {
   "cell_type": "markdown",
   "id": "57a962d0",
   "metadata": {},
   "source": [
    "Q-15) How to install Python on Windows and set path variables? "
   ]
  },
  {
   "cell_type": "markdown",
   "id": "272d5677",
   "metadata": {},
   "source": [
    "Ans-15)In the section entitled User Variables, double-click on the entry that says Path. Another window will pop up showing a list of paths. Click the New button and paste the path to your Python executable there. Once that's inserted, select your newly added path and click the Move Up button until it's at the top."
   ]
  },
  {
   "cell_type": "markdown",
   "id": "d401559f",
   "metadata": {},
   "source": [
    "Q-16)  Is indentation required in python?"
   ]
  },
  {
   "cell_type": "code",
   "execution_count": null,
   "id": "99fa5dcc",
   "metadata": {},
   "outputs": [],
   "source": [
    "Ans-16) "
   ]
  },
  {
   "cell_type": "code",
   "execution_count": null,
   "id": "bb2ff264",
   "metadata": {},
   "outputs": [],
   "source": []
  }
 ],
 "metadata": {
  "kernelspec": {
   "display_name": "Python 3 (ipykernel)",
   "language": "python",
   "name": "python3"
  },
  "language_info": {
   "codemirror_mode": {
    "name": "ipython",
    "version": 3
   },
   "file_extension": ".py",
   "mimetype": "text/x-python",
   "name": "python",
   "nbconvert_exporter": "python",
   "pygments_lexer": "ipython3",
   "version": "3.9.13"
  }
 },
 "nbformat": 4,
 "nbformat_minor": 5
}

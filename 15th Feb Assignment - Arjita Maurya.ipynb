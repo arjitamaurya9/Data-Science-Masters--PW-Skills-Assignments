{
 "cells": [
  {
   "cell_type": "markdown",
   "id": "653c672a-60a5-4022-ba25-c452f11f9b9f",
   "metadata": {},
   "source": [
    "Q1. What is multiprocessing in python? Why is it useful?"
   ]
  },
  {
   "cell_type": "markdown",
   "id": "9193e396-361b-4790-a3dc-776c3724df90",
   "metadata": {},
   "source": [
    "Multiprocessing in Python is a built-in package that allows the system to run multiple processes simultaneously. It will enable the breaking of applications into smaller threads that can run independently"
   ]
  },
  {
   "cell_type": "markdown",
   "id": "2926d217-9d3a-4f29-ad6c-75cc1bab5a88",
   "metadata": {},
   "source": [
    "Q2. What are the differences between multiprocessing and multithreading?"
   ]
  },
  {
   "cell_type": "markdown",
   "id": "8a9d7bd6-772c-4770-a58b-d7f7a35adcb4",
   "metadata": {},
   "source": [
    "**Multiprocessing\tVs Multithreading**\n",
    "1.\tIn Multiprocessing, CPUs are added for increasing computing power.\t\n",
    "While In Multithreading, many threads are created of a single process for increasing computing power.\n",
    "\n",
    "2.\tIn Multiprocessing, Many processes are executed simultaneously.\t\n",
    "While in multithreading, many threads of a process are executed simultaneously.\n",
    "\n",
    "3.\tMultiprocessing are classified into Symmetric and Asymmetric.\t\n",
    "While Multithreading is not classified in any categories.\n",
    "\n",
    "4.\tIn Multiprocessing, Process creation is a time-consuming process.\t\n",
    "While in Multithreading, process creation is according to economical.\n",
    "\n",
    "5.\tIn Multiprocessing, every process owned a separate address space.\t\n",
    "While in Multithreading, a common address space is shared by all the threads."
   ]
  },
  {
   "cell_type": "markdown",
   "id": "1afcc7fc-1677-4f82-b62f-983c33f97778",
   "metadata": {},
   "source": [
    "Q3. Write a python code to create a process using the multiprocessing module."
   ]
  },
  {
   "cell_type": "code",
   "execution_count": 4,
   "id": "ad775a75-cd19-4d38-8125-00af5d9508a2",
   "metadata": {},
   "outputs": [
    {
     "name": "stdout",
     "output_type": "stream",
     "text": [
      "Square: 100\n",
      "Cube: 1000\n",
      "Done!\n"
     ]
    }
   ],
   "source": [
    "# importing the multiprocessing module\n",
    "import multiprocessing\n",
    "\n",
    "def print_cube(num):\n",
    "\t\"\"\"\n",
    "\tfunction to print cube of given num\n",
    "\t\"\"\"\n",
    "\tprint(\"Cube: {}\".format(num * num * num))\n",
    "\n",
    "def print_square(num):\n",
    "\t\"\"\"\n",
    "\tfunction to print square of given num\n",
    "\t\"\"\"\n",
    "\tprint(\"Square: {}\".format(num * num))\n",
    "\n",
    "if __name__ == \"__main__\":\n",
    "\t# creating processes\n",
    "\tp1 = multiprocessing.Process(target=print_square, args=(10, ))\n",
    "\tp2 = multiprocessing.Process(target=print_cube, args=(10, ))\n",
    "\n",
    "\t# starting process 1\n",
    "\tp1.start()\n",
    "\t# starting process 2\n",
    "\tp2.start()\n",
    "\n",
    "\t# wait until process 1 is finished\n",
    "\tp1.join()\n",
    "\t# wait until process 2 is finished\n",
    "\tp2.join()\n",
    "\n",
    "\t# both processes finished\n",
    "\tprint(\"Done!\")"
   ]
  },
  {
   "cell_type": "markdown",
   "id": "b94b3164-f185-416d-a522-11770b4f8ec9",
   "metadata": {},
   "source": [
    "Q4. What is a multiprocessing pool in python? Why is it used?"
   ]
  },
  {
   "cell_type": "markdown",
   "id": "8662c21d-7bb8-4286-8ffe-9cddf9b9dfa6",
   "metadata": {},
   "source": [
    "The Python Multiprocessing Pool class allows you to create and manage process pools in Python.\n",
    "Python multiprocessing Pool can be used for parallel execution of a function across multiple input values, distributing the input data across processes (data parallelism)."
   ]
  },
  {
   "cell_type": "markdown",
   "id": "90a6c774-8956-4082-9fb5-335412a75965",
   "metadata": {},
   "source": [
    "Q5. How can we create a pool of worker processes in python using the multiprocessing module?"
   ]
  },
  {
   "cell_type": "code",
   "execution_count": 5,
   "id": "9cf2ebfb-b6d1-4cdf-8b71-48e8a9155d44",
   "metadata": {},
   "outputs": [
    {
     "name": "stdout",
     "output_type": "stream",
     "text": [
      "Gamma(0.5) = 1.7724538509055159\n",
      "Gamma(1) = 1.0\n",
      "Gamma(2) = 1.0\n",
      "Gamma(3) = 2.0\n",
      "Gamma(4) = 6.0\n",
      "Gamma(5) = 24.0\n",
      "Gamma(6) = 120.0\n",
      "Gamma(7) = 720.0\n",
      "Gamma(8) = 5040.0\n",
      "Gamma(9) = 40320.0\n",
      "Gamma(10) = 362880.0\n"
     ]
    }
   ],
   "source": [
    "import multiprocessing\n",
    "import math\n",
    "\n",
    "def calc_gamma(x):\n",
    "    \"\"\"Function to be executed by worker processes\"\"\"\n",
    "    result = math.gamma(x)\n",
    "    return result\n",
    "\n",
    "if __name__ == '__main__':\n",
    "    # Create a list of values for which to calculate the gamma function\n",
    "    values = [0.5, 1, 2, 3, 4, 5, 6, 7, 8, 9, 10]\n",
    "\n",
    "    # Create a pool of worker processes\n",
    "    pool = multiprocessing.Pool(processes=4)\n",
    "\n",
    "    # Map the gamma function calculation function to the values\n",
    "    results = pool.map(calc_gamma, values)\n",
    "\n",
    "    # Close the pool and wait for the worker processes to finish\n",
    "    pool.close()\n",
    "    pool.join()\n",
    "\n",
    "    # Print the results\n",
    "    for i in range(len(values)):\n",
    "        print(f\"Gamma({values[i]}) = {results[i]}\")"
   ]
  },
  {
   "cell_type": "markdown",
   "id": "cd06d5a3-5749-4119-be7c-7cb2deb8fc1f",
   "metadata": {},
   "source": [
    "Q6. Write a python program to create 4 processes, each process should print a different number using the\n",
    "multiprocessing module in python."
   ]
  },
  {
   "cell_type": "code",
   "execution_count": 6,
   "id": "b0e95e4c-c545-4244-867b-e921edd35d6b",
   "metadata": {},
   "outputs": [
    {
     "name": "stdout",
     "output_type": "stream",
     "text": [
      "Process number 0, random number generated : 89\n",
      "Process number 1, random number generated : 18\n",
      "Process number 2, random number generated : 32\n",
      "Process number 3, random number generated : 3\n"
     ]
    }
   ],
   "source": [
    "import multiprocessing\n",
    "import random\n",
    "\n",
    "def generate_random_number(num):\n",
    "    \"\"\"\n",
    "    This function generates random numbers between 1 to 100\n",
    "    \"\"\"\n",
    "    random_number = random.randint(1, 100)\n",
    "    print(f\"Process number {num}, random number generated : {random_number}\")\n",
    "\n",
    "if __name__ == '__main__':\n",
    "    # Creating a processess list\n",
    "    processes = []\n",
    "    for i in range(4):\n",
    "        p = multiprocessing.Process(target=generate_random_number, args=(i,))\n",
    "        processes.append(p)\n",
    "        p.start()\n",
    "    \n",
    "    # Waiting for processess to complete\n",
    "    for p in processes:\n",
    "        p.join()"
   ]
  },
  {
   "cell_type": "code",
   "execution_count": null,
   "id": "9068b4d5-717c-4208-bdb5-8646fcf3b21b",
   "metadata": {},
   "outputs": [],
   "source": []
  }
 ],
 "metadata": {
  "kernelspec": {
   "display_name": "Python 3 (ipykernel)",
   "language": "python",
   "name": "python3"
  },
  "language_info": {
   "codemirror_mode": {
    "name": "ipython",
    "version": 3
   },
   "file_extension": ".py",
   "mimetype": "text/x-python",
   "name": "python",
   "nbconvert_exporter": "python",
   "pygments_lexer": "ipython3",
   "version": "3.10.8"
  }
 },
 "nbformat": 4,
 "nbformat_minor": 5
}

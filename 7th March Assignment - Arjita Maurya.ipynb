{
 "cells": [
  {
   "cell_type": "markdown",
   "id": "ff344f94",
   "metadata": {},
   "source": [
    "Q1. What are the three measures of central tendency?"
   ]
  },
  {
   "cell_type": "markdown",
   "id": "ebfa4ac6",
   "metadata": {},
   "source": [
    "There are three main measures of central tendency: mode. median. mean."
   ]
  },
  {
   "cell_type": "markdown",
   "id": "3712701c",
   "metadata": {},
   "source": [
    "Q2. What is the difference between the mean, median, and mode? How are they used to measure the\n",
    "central tendency of a dataset?"
   ]
  },
  {
   "cell_type": "markdown",
   "id": "112a21f9",
   "metadata": {},
   "source": [
    "|Mean|Median|Mode|\n",
    "|:-:|:-:|:-:|\n",
    "|The average taken of given observations is called Mean.|The middle number in a given set of observations is called Median.|The most frequently occurred number in a given set of observations is called mode.|\n",
    "|Add up all the numbers and divide by the total number of terms|Place all the numbers in ascending or descending order |the mode is derived when a number has frequency occurred in a series|\n",
    "| Once the above step is finished, what we get is the mean.|After arranging everything from smallest to biggest, take out the middle number, which is your median.|The mode can be one or more than one. It is possible to have no mode at all, as well\n",
    "|\n",
    "|Mean is the arithmetic mean or in a  simple way can be a simple average or weighted average|When series have even numbers, median is the simple average of the middle pair of numbers. |If there is a unique data set, there is no mode at all.|\n",
    "|\tWhen data is normally distributed, the mean is widely preferred.|When data distribution is skewed, median is the best representative.|When there is a nominal distribution of data, the mode is preferred|\n"
   ]
  },
  {
   "cell_type": "markdown",
   "id": "168d48b5",
   "metadata": {},
   "source": [
    "Q3. Measure the three measures of central tendency for the given height data:\n",
    "[178,177,176,177,178.2,178,175,179,180,175,178.9,176.2,177,172.5,178,176.5]"
   ]
  },
  {
   "cell_type": "code",
   "execution_count": 1,
   "id": "64bf1c52",
   "metadata": {},
   "outputs": [],
   "source": [
    "height = [178,177,176,177,178.2,178,175,179,180,175,178.9,176.2,177,172.5,178,176.5]"
   ]
  },
  {
   "cell_type": "code",
   "execution_count": 11,
   "id": "fc5fb68f",
   "metadata": {},
   "outputs": [
    {
     "name": "stdout",
     "output_type": "stream",
     "text": [
      "Mean is177.01875, Median is 177.0, Mode is ModeResult(mode=array([177.]), count=array([3]))\n"
     ]
    },
    {
     "name": "stderr",
     "output_type": "stream",
     "text": [
      "C:\\Users\\Arjita\\AppData\\Local\\Temp\\ipykernel_15764\\166377492.py:5: FutureWarning: Unlike other reduction functions (e.g. `skew`, `kurtosis`), the default behavior of `mode` typically preserves the axis it acts along. In SciPy 1.11.0, this behavior will change: the default value of `keepdims` will become False, the `axis` over which the statistic is taken will be eliminated, and the value None will no longer be accepted. Set `keepdims` to True or False to avoid this warning.\n",
      "  mode = stats.mode(height)\n"
     ]
    }
   ],
   "source": [
    "import numpy as np\n",
    "mean= np.mean(height)\n",
    "median=np.median(height)\n",
    "from scipy import stats\n",
    "mode = stats.mode(height)\n",
    "print(f\"Mean is{mean}, Median is {median}, Mode is {mode}\")"
   ]
  },
  {
   "cell_type": "markdown",
   "id": "f7df8db1",
   "metadata": {},
   "source": [
    "Q4. Find the standard deviation for the given data:\n",
    "[178,177,176,177,178.2,178,175,179,180,175,178.9,176.2,177,172.5,178,176.5]"
   ]
  },
  {
   "cell_type": "code",
   "execution_count": 14,
   "id": "065ff76d",
   "metadata": {},
   "outputs": [
    {
     "name": "stdout",
     "output_type": "stream",
     "text": [
      "Standard Deivation is  1.7885814036548633\n"
     ]
    }
   ],
   "source": [
    "std = np.std(height)\n",
    "print(\"Standard Deivation is \", std)"
   ]
  },
  {
   "cell_type": "markdown",
   "id": "a4524b76",
   "metadata": {},
   "source": [
    "Q5. How are measures of dispersion such as range, variance, and standard deviation used to describe\n",
    "the spread of a dataset? Provide an example."
   ]
  },
  {
   "cell_type": "markdown",
   "id": "9e9489d9",
   "metadata": {},
   "source": [
    "**Range**\n",
    "The range of the data is given as the difference between the maximum and the minimum values of the observations in the data. For example, let’s say we have data on the heights of people, we find the range as:"
   ]
  },
  {
   "cell_type": "code",
   "execution_count": 16,
   "id": "41964322",
   "metadata": {},
   "outputs": [
    {
     "data": {
      "text/plain": [
       "7.5"
      ]
     },
     "execution_count": 16,
     "metadata": {},
     "output_type": "execute_result"
    }
   ],
   "source": [
    "range = (max(height) - min(height))\n",
    "range"
   ]
  },
  {
   "cell_type": "markdown",
   "id": "f2c3dde4",
   "metadata": {},
   "source": [
    "**Variance** The variance of the data is given by measuring the distance of the observed values from the mean of the distribution. Here we are not concerned with the sign of the distance of the point, we are more interested in the magnitude. For example, let’s say we have data on the heights of people, we find the variance as:"
   ]
  },
  {
   "cell_type": "code",
   "execution_count": 17,
   "id": "45775a91",
   "metadata": {},
   "outputs": [
    {
     "data": {
      "text/plain": [
       "3.199023437500001"
      ]
     },
     "execution_count": 17,
     "metadata": {},
     "output_type": "execute_result"
    }
   ],
   "source": [
    "np.var(height)"
   ]
  },
  {
   "cell_type": "markdown",
   "id": "6e612d4e",
   "metadata": {},
   "source": [
    "**Standard Deviation**\n",
    "In the calculation of variance, notice that the units of the variance and the unit of the observations are not the same. So, to remove this problem, we define standard deviation. For example, let’s say we have data on the heights of people, we find the standard deviation as:"
   ]
  },
  {
   "cell_type": "code",
   "execution_count": 18,
   "id": "8c144625",
   "metadata": {},
   "outputs": [
    {
     "data": {
      "text/plain": [
       "1.7885814036548633"
      ]
     },
     "execution_count": 18,
     "metadata": {},
     "output_type": "execute_result"
    }
   ],
   "source": [
    "np.std(height)"
   ]
  },
  {
   "cell_type": "markdown",
   "id": "631f9bcb",
   "metadata": {},
   "source": [
    "Q6. What is a Venn diagram?"
   ]
  },
  {
   "cell_type": "markdown",
   "id": "2475b166",
   "metadata": {},
   "source": [
    "A Venn diagram is an illustration that uses circles to show the relationships among things or finite groups of things.\n"
   ]
  },
  {
   "cell_type": "markdown",
   "id": "83dc4580",
   "metadata": {},
   "source": [
    "Q7. For the two given sets A = (2,3,4,5,6,7) & B = (0,2,6,8,10). Find:\n",
    "(i) A ∩ B\n",
    "(ii) A ⋃ B"
   ]
  },
  {
   "cell_type": "markdown",
   "id": "c64eba7a",
   "metadata": {},
   "source": [
    "(i) A ∩ B= {2,6}\n",
    "(ii) A ⋃ B ={0,2,3,4,5,6,7,8,10}"
   ]
  },
  {
   "cell_type": "markdown",
   "id": "38dd3313",
   "metadata": {},
   "source": [
    "Q8. What do you understand about skewness in data?"
   ]
  },
  {
   "cell_type": "markdown",
   "id": "cdac0c6d",
   "metadata": {},
   "source": [
    "Skewness is a measure of the asymmetry of a distribution. A distribution is asymmetrical when its left and right side are not mirror images"
   ]
  },
  {
   "cell_type": "markdown",
   "id": "964c74be",
   "metadata": {},
   "source": [
    "Q9. If a data is right skewed then what will be the position of median with respect to mean?"
   ]
  },
  {
   "cell_type": "markdown",
   "id": "6c711712",
   "metadata": {},
   "source": [
    "Generally, if the distribution of data is skewed to the left, the mean is less than the median, which is often less than the mode. If the distribution of data is skewed to the right, the mode is often less than the median, which is less than the mean."
   ]
  },
  {
   "cell_type": "markdown",
   "id": "ce1573dc",
   "metadata": {},
   "source": [
    "Q10. Explain the difference between covariance and correlation. How are these measures used in\n",
    "statistical analysis?"
   ]
  },
  {
   "cell_type": "markdown",
   "id": "9fa1ff81",
   "metadata": {},
   "source": [
    "1. Covariance : Covariance measures the extent to which two variables vary together. Specifically, it measures the degree to which two variables deviate from their means in similar ways. The value of the covariance can range from negative infinity to positive infinity. A positive covariance indicates that the two variables tend to move in the same direction, while a negative covariance indicates that the two variables tend to move in opposite directions. A covariance of zero indicates that the two variables are uncorrelated.\n",
    "2. Correlation : Correlation, on the other hand, is a standardized measure of the linear relationship between two variables. Correlation takes on values between -1 and 1, where a correlation of 1 indicates a perfect positive relationship, a correlation of -1 indicates a perfect negative relationship, and a correlation of 0 indicates no linear relationship. Correlation is a more commonly used measure than covariance, because it is standardized and easier to interpret. Correlation can also be used to compare the strength of the relationship between different pairs of variables on a common scale."
   ]
  },
  {
   "cell_type": "markdown",
   "id": "7e6410c5",
   "metadata": {},
   "source": [
    "Q11. What is the formula for calculating the sample mean? Provide an example calculation for a\n",
    "dataset."
   ]
  },
  {
   "cell_type": "markdown",
   "id": "9f0cb014",
   "metadata": {},
   "source": [
    "The formula for calculating the sample mean is:\n",
    "x̄ = (x₁ + x₂ + ... + xn) / n where x₁, x₂, ..., xn are the values in the dataset, and n is the number of values in the sample.\n",
    "\n",
    "Consider below 5 Values were sampled from a larger dataset\n",
    "\n",
    "Sample: 4, 6, 2, 9, 5\n",
    "\n",
    "x̄ = (4 + 6 + 2 + 9 + 5) / 5\n",
    "\n",
    "x̄ = 26 / 5\n",
    "\n",
    "x̄ = 5.2"
   ]
  },
  {
   "cell_type": "markdown",
   "id": "d027f335",
   "metadata": {},
   "source": [
    "Q12. For a normal distribution data what is the relationship between its measure of central tendency?"
   ]
  },
  {
   "cell_type": "markdown",
   "id": "22da8584",
   "metadata": {},
   "source": [
    "For a normal distribution, the three measures of central tendency (mean, median, and mode) are all equal. This is because a normal distribution is symmetric around the mean, so the median (which is the middle value when the data is arranged in order) is also the mean. Additionally, the mode (which is the most frequent value in the distribution) is also equal to the mean and median in a normal distribution.\n",
    "\n",
    "Therefore, in a normal distribution, the mean, median, and mode are all the same value and represent the center of the distribution. This makes the mean a reliable measure of central tendency for normal data."
   ]
  },
  {
   "cell_type": "markdown",
   "id": "0c60c4a2",
   "metadata": {},
   "source": [
    "Q13. How is covariance different from correlation?"
   ]
  },
  {
   "cell_type": "markdown",
   "id": "cbab101e",
   "metadata": {},
   "source": [
    "The main difference between covariance and correlation is that covariance is an unstandardized measure that reflects the direction and magnitude of the relationship between two variables, while correlation is a standardized measure that reflects only the strength and direction of the linear relationship between two variables."
   ]
  },
  {
   "cell_type": "markdown",
   "id": "35ead10d",
   "metadata": {},
   "source": [
    "Q14. How do outliers affect measures of central tendency and dispersion? Provide an example."
   ]
  },
  {
   "cell_type": "markdown",
   "id": "754583b5",
   "metadata": {},
   "source": [
    "Outliers can have a significant impact on measures of central tendency and dispersion, particularly the mean and standard deviation.\n",
    "\n",
    "In terms of central tendency, outliers can pull the mean away from the center of the data, making it a less representative measure of the typical value in the dataset. The effect of outliers on the median, however, is less pronounced, as the median is less affected by extreme values.\n",
    "\n",
    "In terms of dispersion, outliers can also have a significant impact on the standard deviation, which is a measure of the spread of the data around the mean. Because the standard deviation is influenced by the distance between each value and the mean, outliers that are far from the center of the data can cause the standard deviation to be larger than it would be without the outlier.\n",
    "\n",
    "Consider below example using heights dataset from Question 3 :"
   ]
  },
  {
   "cell_type": "code",
   "execution_count": 22,
   "id": "32884f1f",
   "metadata": {},
   "outputs": [],
   "source": [
    "## Creating a function to calculate and return mean , median and mode for given list\n",
    "import numpy as np\n",
    "from scipy.stats import mode\n",
    "def central_tendency(l:list):\n",
    "    avg = np.mean(l)\n",
    "    mdn = np.median(l)\n",
    "    md = mode(l,keepdims=False)\n",
    "    return avg , mdn, md"
   ]
  },
  {
   "cell_type": "code",
   "execution_count": 23,
   "id": "0e04abdb",
   "metadata": {},
   "outputs": [
    {
     "name": "stdout",
     "output_type": "stream",
     "text": [
      "Mean of heights WITHOUT outlier is   : 177.01875\n",
      "Median of heights WITHOUT outlier is : 177.0\n",
      "Mode of heights WITHOUT outlier is   : ModeResult(mode=177.0, count=3)\n"
     ]
    }
   ],
   "source": [
    "# Central Tendency\n",
    "avg1, mdn1, md1 = central_tendency(height)\n",
    "print(f'Mean of heights WITHOUT outlier is   : {avg1}')\n",
    "print(f'Median of heights WITHOUT outlier is : {mdn1}')\n",
    "print(f'Mode of heights WITHOUT outlier is   : {md1}') "
   ]
  },
  {
   "cell_type": "code",
   "execution_count": 24,
   "id": "c2986f3e",
   "metadata": {},
   "outputs": [
    {
     "name": "stdout",
     "output_type": "stream",
     "text": [
      "Standard Deviation of heights WITHOUT outlier is : 1.7885814036548633\n"
     ]
    }
   ],
   "source": [
    "# Dispersion\n",
    "std1 = np.std(height)\n",
    "print(f'Standard Deviation of heights WITHOUT outlier is : {std1}')"
   ]
  },
  {
   "cell_type": "markdown",
   "id": "d644269a",
   "metadata": {},
   "source": [
    "Adding a outlier to heights Data , added a 1000.0 as a height value as an outlier"
   ]
  },
  {
   "cell_type": "code",
   "execution_count": 25,
   "id": "bec3e599",
   "metadata": {},
   "outputs": [
    {
     "name": "stdout",
     "output_type": "stream",
     "text": [
      "[178, 177, 176, 177, 178.2, 178, 175, 179, 180, 175, 178.9, 176.2, 177, 172.5, 178, 176.5, 1000.0]\n"
     ]
    }
   ],
   "source": [
    "import copy\n",
    "height_2 = copy.deepcopy(height)\n",
    "height_2 = height_2 + [1000.0]\n",
    "print(height_2)"
   ]
  },
  {
   "cell_type": "code",
   "execution_count": 27,
   "id": "f0f15ffc",
   "metadata": {},
   "outputs": [
    {
     "name": "stdout",
     "output_type": "stream",
     "text": [
      "Mean of heights WITH outlier is   : 225.4294117647059\n",
      "Median of heights WITH outlier is : 177.0\n",
      "Mode of heights WITH outlier is   : ModeResult(mode=177.0, count=3)\n"
     ]
    }
   ],
   "source": [
    "# Central Tendency with Outlier\n",
    "avg2, mdn2, md2 = central_tendency(height_2)\n",
    "print(f'Mean of heights WITH outlier is   : {avg2}')\n",
    "print(f'Median of heights WITH outlier is : {mdn2}')\n",
    "print(f'Mode of heights WITH outlier is   : {md2}') "
   ]
  },
  {
   "cell_type": "code",
   "execution_count": 28,
   "id": "5fb0f72d",
   "metadata": {},
   "outputs": [
    {
     "name": "stdout",
     "output_type": "stream",
     "text": [
      "Standard Deviation of heights WITHOUT outlier is : 193.65042113441513\n"
     ]
    }
   ],
   "source": [
    "# Dispersion with Outlier\n",
    "std2 = np.std(height_2)\n",
    "print(f'Standard Deviation of heights WITHOUT outlier is : {std2}')"
   ]
  },
  {
   "cell_type": "markdown",
   "id": "a7c17020",
   "metadata": {},
   "source": [
    "Comparison of Results with and without outliers"
   ]
  },
  {
   "cell_type": "code",
   "execution_count": 29,
   "id": "5d03a573",
   "metadata": {},
   "outputs": [],
   "source": [
    "comparison_dict = {\n",
    "    'Statistic':['Mean','Median','Mode','Standard Deviation'],\n",
    "    'Orignal' : [avg1,mdn1,md1[0],std1],\n",
    "    'Outlier' : [avg2,mdn2,md2[0],std2]    \n",
    "}"
   ]
  },
  {
   "cell_type": "code",
   "execution_count": 30,
   "id": "0d8a0769",
   "metadata": {},
   "outputs": [
    {
     "data": {
      "text/html": [
       "<div>\n",
       "<style scoped>\n",
       "    .dataframe tbody tr th:only-of-type {\n",
       "        vertical-align: middle;\n",
       "    }\n",
       "\n",
       "    .dataframe tbody tr th {\n",
       "        vertical-align: top;\n",
       "    }\n",
       "\n",
       "    .dataframe thead th {\n",
       "        text-align: right;\n",
       "    }\n",
       "</style>\n",
       "<table border=\"1\" class=\"dataframe\">\n",
       "  <thead>\n",
       "    <tr style=\"text-align: right;\">\n",
       "      <th></th>\n",
       "      <th>Statistic</th>\n",
       "      <th>Orignal</th>\n",
       "      <th>Outlier</th>\n",
       "    </tr>\n",
       "  </thead>\n",
       "  <tbody>\n",
       "    <tr>\n",
       "      <th>0</th>\n",
       "      <td>Mean</td>\n",
       "      <td>177.018750</td>\n",
       "      <td>225.429412</td>\n",
       "    </tr>\n",
       "    <tr>\n",
       "      <th>1</th>\n",
       "      <td>Median</td>\n",
       "      <td>177.000000</td>\n",
       "      <td>177.000000</td>\n",
       "    </tr>\n",
       "    <tr>\n",
       "      <th>2</th>\n",
       "      <td>Mode</td>\n",
       "      <td>177.000000</td>\n",
       "      <td>177.000000</td>\n",
       "    </tr>\n",
       "    <tr>\n",
       "      <th>3</th>\n",
       "      <td>Standard Deviation</td>\n",
       "      <td>1.788581</td>\n",
       "      <td>193.650421</td>\n",
       "    </tr>\n",
       "  </tbody>\n",
       "</table>\n",
       "</div>"
      ],
      "text/plain": [
       "            Statistic     Orignal     Outlier\n",
       "0                Mean  177.018750  225.429412\n",
       "1              Median  177.000000  177.000000\n",
       "2                Mode  177.000000  177.000000\n",
       "3  Standard Deviation    1.788581  193.650421"
      ]
     },
     "execution_count": 30,
     "metadata": {},
     "output_type": "execute_result"
    }
   ],
   "source": [
    "import pandas as pd\n",
    "comparison_df = pd.DataFrame(comparison_dict)\n",
    "comparison_df"
   ]
  },
  {
   "cell_type": "code",
   "execution_count": 31,
   "id": "5d753984",
   "metadata": {},
   "outputs": [
    {
     "data": {
      "text/html": [
       "<div>\n",
       "<style scoped>\n",
       "    .dataframe tbody tr th:only-of-type {\n",
       "        vertical-align: middle;\n",
       "    }\n",
       "\n",
       "    .dataframe tbody tr th {\n",
       "        vertical-align: top;\n",
       "    }\n",
       "\n",
       "    .dataframe thead th {\n",
       "        text-align: right;\n",
       "    }\n",
       "</style>\n",
       "<table border=\"1\" class=\"dataframe\">\n",
       "  <thead>\n",
       "    <tr style=\"text-align: right;\">\n",
       "      <th></th>\n",
       "      <th>Statistic</th>\n",
       "      <th>Orignal</th>\n",
       "      <th>Outlier</th>\n",
       "      <th>difference</th>\n",
       "    </tr>\n",
       "  </thead>\n",
       "  <tbody>\n",
       "    <tr>\n",
       "      <th>0</th>\n",
       "      <td>Mean</td>\n",
       "      <td>177.018750</td>\n",
       "      <td>225.429412</td>\n",
       "      <td>48.410662</td>\n",
       "    </tr>\n",
       "    <tr>\n",
       "      <th>1</th>\n",
       "      <td>Median</td>\n",
       "      <td>177.000000</td>\n",
       "      <td>177.000000</td>\n",
       "      <td>0.000000</td>\n",
       "    </tr>\n",
       "    <tr>\n",
       "      <th>2</th>\n",
       "      <td>Mode</td>\n",
       "      <td>177.000000</td>\n",
       "      <td>177.000000</td>\n",
       "      <td>0.000000</td>\n",
       "    </tr>\n",
       "    <tr>\n",
       "      <th>3</th>\n",
       "      <td>Standard Deviation</td>\n",
       "      <td>1.788581</td>\n",
       "      <td>193.650421</td>\n",
       "      <td>191.861840</td>\n",
       "    </tr>\n",
       "  </tbody>\n",
       "</table>\n",
       "</div>"
      ],
      "text/plain": [
       "            Statistic     Orignal     Outlier  difference\n",
       "0                Mean  177.018750  225.429412   48.410662\n",
       "1              Median  177.000000  177.000000    0.000000\n",
       "2                Mode  177.000000  177.000000    0.000000\n",
       "3  Standard Deviation    1.788581  193.650421  191.861840"
      ]
     },
     "execution_count": 31,
     "metadata": {},
     "output_type": "execute_result"
    }
   ],
   "source": [
    "comparison_df['difference']=comparison_df['Outlier']-comparison_df['Orignal']\n",
    "comparison_df"
   ]
  },
  {
   "cell_type": "markdown",
   "id": "a53cf470",
   "metadata": {},
   "source": [
    "Above results show that the outliers have a very strong impact on Mean and Standard Deviation for a given data."
   ]
  },
  {
   "cell_type": "code",
   "execution_count": null,
   "id": "87c0875c",
   "metadata": {},
   "outputs": [],
   "source": []
  }
 ],
 "metadata": {
  "kernelspec": {
   "display_name": "Python 3 (ipykernel)",
   "language": "python",
   "name": "python3"
  },
  "language_info": {
   "codemirror_mode": {
    "name": "ipython",
    "version": 3
   },
   "file_extension": ".py",
   "mimetype": "text/x-python",
   "name": "python",
   "nbconvert_exporter": "python",
   "pygments_lexer": "ipython3",
   "version": "3.9.13"
  }
 },
 "nbformat": 4,
 "nbformat_minor": 5
}

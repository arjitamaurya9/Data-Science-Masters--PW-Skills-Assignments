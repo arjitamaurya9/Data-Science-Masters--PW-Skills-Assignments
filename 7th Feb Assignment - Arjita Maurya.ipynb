{
 "cells": [
  {
   "cell_type": "markdown",
   "id": "fd93d2a3",
   "metadata": {},
   "source": [
    "Q1. You are writing code for a company. The requirement of the company is that you create a python\n",
    "function that will check whether the password entered by the user is correct or not. The function should\n",
    "take the password as input and return the string “Valid Password” if the entered password follows the\n",
    "below-given password guidelines else it should return “Invalid Password”.\n",
    "\n",
    "Note: \n",
    "1. The Password should contain at least two uppercase letters and at least two lowercase letters.\n",
    "\n",
    "2. The Password should contain at least a number and three special characters.\n",
    "\n",
    "3. The length of the password should be 10 characters long."
   ]
  },
  {
   "cell_type": "code",
   "execution_count": 7,
   "id": "fecddc30",
   "metadata": {},
   "outputs": [
    {
     "name": "stdout",
     "output_type": "stream",
     "text": [
      "Enter a password:AArrjita09@#$\n",
      "Valid Password\n",
      "None\n"
     ]
    }
   ],
   "source": [
    "def password_check(s):\n",
    "    l, u, p, d = 0, 0, 0, 0\n",
    "    if (len(s) >= 10):\n",
    "        for i in s:\n",
    "            # counting lowercase alphabets\n",
    "            if (i.islower()):\n",
    "                l+=1           \n",
    "            # counting uppercase alphabets\n",
    "            if (i.isupper()):\n",
    "                u+=1           \n",
    "            # counting digits\n",
    "            if (i.isdigit()):\n",
    "                d+=1           \n",
    "            # counting the mentioned special characters\n",
    "            if(i=='~'or i=='`' or i=='!' or i == '@' or i == '#' or i == '$' or i == '%' or i == '^' or i == '&' or i == '*' or i == '(' or i == ')'\n",
    "            or i == '_' or i == '-' or i == '{' or i == '}' or i == '[' or i == ']' or i == '|' or i == ':' or i == ';' or i == '<' or i == '>'\n",
    "            or i == ',' or i == '.' or i == '?' or i == '/'):\n",
    "                p+=1          \n",
    "    if (l>=2 and u>=2 and p>=1 and d>=1 and l+p+u+d==len(s)):\n",
    "        print(\"Valid Password\")\n",
    "    else:\n",
    "        print(\"Invalid Password\")\n",
    "    \n",
    "password=input(\"Enter a password:\")\n",
    "print(password_check(password))"
   ]
  },
  {
   "cell_type": "markdown",
   "id": "9f9d69bb",
   "metadata": {},
   "source": [
    "Q2. Solve the below-given questions using at least one of the following:  \n",
    "\n",
    "1. Lambda function \n",
    "\n",
    "2. Filter function \n",
    "\n",
    "3. Zap function\n",
    "\n",
    "4. List Comprehension\n",
    "\n",
    "- Check if the string starts with a particular letter. \n",
    "- Check if the string is numeric.\n",
    "- Sort a list of tuples having fruit names and their quantity. [(\"mango\",99),(\"orange\",80), (\"grapes\", 1000)\n",
    "- Find the squares of numbers from 1 to 10. \n",
    "- Find the cube root of numbers from 1 to 10. \n",
    "- Check if a given number is even. \n",
    "- Filter odd numbers from the given list. \n",
    " [1,2,3,4,5,6,7,8,9,10]\n",
    "- Sort a list of integers into positive and negative integers lists. \n",
    " [1,2,3,4,5,6,-1,-2,-3,-4,-5,0] \n"
   ]
  },
  {
   "cell_type": "code",
   "execution_count": 10,
   "id": "aeb0dbd4",
   "metadata": {},
   "outputs": [],
   "source": [
    "#1.Check if the string starts with a particular letter:\n",
    "starts_with = lambda string, letter: True if string[0] == letter else False"
   ]
  },
  {
   "cell_type": "code",
   "execution_count": 11,
   "id": "7d1b324d",
   "metadata": {},
   "outputs": [
    {
     "data": {
      "text/plain": [
       "True"
      ]
     },
     "execution_count": 11,
     "metadata": {},
     "output_type": "execute_result"
    }
   ],
   "source": [
    "starts_with(\"yes\",'y')"
   ]
  },
  {
   "cell_type": "code",
   "execution_count": 12,
   "id": "6eb5ca12",
   "metadata": {},
   "outputs": [
    {
     "data": {
      "text/plain": [
       "False"
      ]
     },
     "execution_count": 12,
     "metadata": {},
     "output_type": "execute_result"
    }
   ],
   "source": [
    "starts_with(\"No\",'o')"
   ]
  },
  {
   "cell_type": "code",
   "execution_count": 13,
   "id": "dfabf862",
   "metadata": {},
   "outputs": [],
   "source": [
    "#Check if the string is numeric\n",
    "numeric = lambda string: True if string.isdigit() else False"
   ]
  },
  {
   "cell_type": "code",
   "execution_count": 14,
   "id": "7496692b",
   "metadata": {},
   "outputs": [
    {
     "data": {
      "text/plain": [
       "True"
      ]
     },
     "execution_count": 14,
     "metadata": {},
     "output_type": "execute_result"
    }
   ],
   "source": [
    "numeric('123')"
   ]
  },
  {
   "cell_type": "code",
   "execution_count": 15,
   "id": "97afa992",
   "metadata": {},
   "outputs": [
    {
     "data": {
      "text/plain": [
       "False"
      ]
     },
     "execution_count": 15,
     "metadata": {},
     "output_type": "execute_result"
    }
   ],
   "source": [
    "numeric(\"yes\")"
   ]
  },
  {
   "cell_type": "code",
   "execution_count": 19,
   "id": "6f7b8829",
   "metadata": {},
   "outputs": [
    {
     "name": "stdout",
     "output_type": "stream",
     "text": [
      "[('orange', 80), ('mango', 99), ('grapes', 1000)]\n"
     ]
    }
   ],
   "source": [
    "#Sort a list of tuples having fruit names and their quantity. \n",
    "fruits=[(\"mango\",99),(\"orange\",80), (\"grapes\", 1000)]\n",
    "sorted_fruits = sorted(fruits, key=lambda x: x[1])\n",
    "print(sorted_fruits)\n"
   ]
  },
  {
   "cell_type": "code",
   "execution_count": 23,
   "id": "be69ee7b",
   "metadata": {},
   "outputs": [
    {
     "data": {
      "text/plain": [
       "[1, 4, 9, 16, 25, 36, 49, 64, 81, 100]"
      ]
     },
     "execution_count": 23,
     "metadata": {},
     "output_type": "execute_result"
    }
   ],
   "source": [
    "#Find the squares of numbers from 1 to 10.\n",
    "[ i*i for i in range(1,11)]"
   ]
  },
  {
   "cell_type": "code",
   "execution_count": 24,
   "id": "51a18dc6",
   "metadata": {},
   "outputs": [
    {
     "data": {
      "text/plain": [
       "[1.0,\n",
       " 1.2599210498948732,\n",
       " 1.4422495703074083,\n",
       " 1.5874010519681994,\n",
       " 1.7099759466766968,\n",
       " 1.8171205928321397,\n",
       " 1.912931182772389,\n",
       " 2.0,\n",
       " 2.080083823051904,\n",
       " 2.154434690031884]"
      ]
     },
     "execution_count": 24,
     "metadata": {},
     "output_type": "execute_result"
    }
   ],
   "source": [
    "#Find the cube root of numbers from 1 to 10.\n",
    "import math \n",
    "[math.pow(i,1/3) for i in range(1,11)]"
   ]
  },
  {
   "cell_type": "code",
   "execution_count": 25,
   "id": "2ec01d92",
   "metadata": {},
   "outputs": [],
   "source": [
    "#Check if a given number is even.\n",
    "ifeven = lambda x: \"Even\" if x%2==0 else \"Odd\" "
   ]
  },
  {
   "cell_type": "code",
   "execution_count": 26,
   "id": "b79589ca",
   "metadata": {},
   "outputs": [
    {
     "data": {
      "text/plain": [
       "'Odd'"
      ]
     },
     "execution_count": 26,
     "metadata": {},
     "output_type": "execute_result"
    }
   ],
   "source": [
    "ifeven(5)"
   ]
  },
  {
   "cell_type": "code",
   "execution_count": 27,
   "id": "9a7c83dc",
   "metadata": {},
   "outputs": [
    {
     "data": {
      "text/plain": [
       "'Even'"
      ]
     },
     "execution_count": 27,
     "metadata": {},
     "output_type": "execute_result"
    }
   ],
   "source": [
    "ifeven(10)"
   ]
  },
  {
   "cell_type": "code",
   "execution_count": 28,
   "id": "82bb0872",
   "metadata": {},
   "outputs": [
    {
     "data": {
      "text/plain": [
       "[1, 3, 5, 7, 9]"
      ]
     },
     "execution_count": 28,
     "metadata": {},
     "output_type": "execute_result"
    }
   ],
   "source": [
    "#Filter odd numbers from the given list. \n",
    "l=[1,2,3,4,5,6,7,8,9,10]\n",
    "list(filter(lambda x: x% 2 !=0,l))"
   ]
  },
  {
   "cell_type": "code",
   "execution_count": 43,
   "id": "f0e2b41a",
   "metadata": {},
   "outputs": [],
   "source": [
    "#Sort a list of integers into positive and negative integers lists. \n",
    "l=[1,2,3,4,5,6,-1,-2,-3,-4,-5,0]\n",
    "def num_check():\n",
    "    Positive=[]\n",
    "    Negative=[]\n",
    "    for i in l:\n",
    "        if i>=0:\n",
    "            Positive.append(i)\n",
    "        else:\n",
    "            Negative.append(i)\n",
    "        \n",
    "    return Positive, Negative"
   ]
  },
  {
   "cell_type": "code",
   "execution_count": 44,
   "id": "f765541a",
   "metadata": {},
   "outputs": [
    {
     "data": {
      "text/plain": [
       "([1, 2, 3, 4, 5, 6, 0], [-1, -2, -3, -4, -5])"
      ]
     },
     "execution_count": 44,
     "metadata": {},
     "output_type": "execute_result"
    }
   ],
   "source": [
    "num_check()"
   ]
  },
  {
   "cell_type": "code",
   "execution_count": null,
   "id": "806df74a",
   "metadata": {},
   "outputs": [],
   "source": []
  }
 ],
 "metadata": {
  "kernelspec": {
   "display_name": "Python 3 (ipykernel)",
   "language": "python",
   "name": "python3"
  },
  "language_info": {
   "codemirror_mode": {
    "name": "ipython",
    "version": 3
   },
   "file_extension": ".py",
   "mimetype": "text/x-python",
   "name": "python",
   "nbconvert_exporter": "python",
   "pygments_lexer": "ipython3",
   "version": "3.9.13"
  }
 },
 "nbformat": 4,
 "nbformat_minor": 5
}
